{
 "cells": [
  {
   "cell_type": "code",
   "execution_count": 1,
   "metadata": {},
   "outputs": [
    {
     "name": "stdout",
     "output_type": "stream",
     "text": [
      "Requirement already satisfied: pyLDAvis in /Users/shruti/opt/anaconda3/lib/python3.7/site-packages (2.1.2)\n",
      "Requirement already satisfied: wheel>=0.23.0 in /Users/shruti/opt/anaconda3/lib/python3.7/site-packages (from pyLDAvis) (0.33.6)\n",
      "Requirement already satisfied: numpy>=1.9.2 in /Users/shruti/opt/anaconda3/lib/python3.7/site-packages (from pyLDAvis) (1.17.2)\n",
      "Requirement already satisfied: scipy>=0.18.0 in /Users/shruti/opt/anaconda3/lib/python3.7/site-packages (from pyLDAvis) (1.4.1)\n",
      "Requirement already satisfied: pandas>=0.17.0 in /Users/shruti/opt/anaconda3/lib/python3.7/site-packages (from pyLDAvis) (0.25.1)\n",
      "Requirement already satisfied: joblib>=0.8.4 in /Users/shruti/opt/anaconda3/lib/python3.7/site-packages (from pyLDAvis) (0.13.2)\n",
      "Requirement already satisfied: jinja2>=2.7.2 in /Users/shruti/opt/anaconda3/lib/python3.7/site-packages (from pyLDAvis) (2.10.3)\n",
      "Requirement already satisfied: numexpr in /Users/shruti/opt/anaconda3/lib/python3.7/site-packages (from pyLDAvis) (2.7.0)\n",
      "Requirement already satisfied: pytest in /Users/shruti/opt/anaconda3/lib/python3.7/site-packages (from pyLDAvis) (5.2.1)\n",
      "Requirement already satisfied: future in /Users/shruti/opt/anaconda3/lib/python3.7/site-packages (from pyLDAvis) (0.18.2)\n",
      "Requirement already satisfied: funcy in /Users/shruti/opt/anaconda3/lib/python3.7/site-packages (from pyLDAvis) (1.14)\n",
      "Requirement already satisfied: pytz>=2017.2 in /Users/shruti/opt/anaconda3/lib/python3.7/site-packages (from pandas>=0.17.0->pyLDAvis) (2019.3)\n",
      "Requirement already satisfied: python-dateutil>=2.6.1 in /Users/shruti/opt/anaconda3/lib/python3.7/site-packages (from pandas>=0.17.0->pyLDAvis) (2.8.0)\n",
      "Requirement already satisfied: MarkupSafe>=0.23 in /Users/shruti/opt/anaconda3/lib/python3.7/site-packages (from jinja2>=2.7.2->pyLDAvis) (1.1.1)\n",
      "Requirement already satisfied: py>=1.5.0 in /Users/shruti/opt/anaconda3/lib/python3.7/site-packages (from pytest->pyLDAvis) (1.8.0)\n",
      "Requirement already satisfied: packaging in /Users/shruti/opt/anaconda3/lib/python3.7/site-packages (from pytest->pyLDAvis) (19.2)\n",
      "Requirement already satisfied: attrs>=17.4.0 in /Users/shruti/opt/anaconda3/lib/python3.7/site-packages (from pytest->pyLDAvis) (19.2.0)\n",
      "Requirement already satisfied: more-itertools>=4.0.0 in /Users/shruti/opt/anaconda3/lib/python3.7/site-packages (from pytest->pyLDAvis) (7.2.0)\n",
      "Requirement already satisfied: atomicwrites>=1.0 in /Users/shruti/opt/anaconda3/lib/python3.7/site-packages (from pytest->pyLDAvis) (1.3.0)\n",
      "Requirement already satisfied: pluggy<1.0,>=0.12 in /Users/shruti/opt/anaconda3/lib/python3.7/site-packages (from pytest->pyLDAvis) (0.13.0)\n",
      "Requirement already satisfied: wcwidth in /Users/shruti/opt/anaconda3/lib/python3.7/site-packages (from pytest->pyLDAvis) (0.1.7)\n",
      "Requirement already satisfied: importlib-metadata>=0.12 in /Users/shruti/opt/anaconda3/lib/python3.7/site-packages (from pytest->pyLDAvis) (0.23)\n",
      "Requirement already satisfied: six>=1.5 in /Users/shruti/opt/anaconda3/lib/python3.7/site-packages (from python-dateutil>=2.6.1->pandas>=0.17.0->pyLDAvis) (1.12.0)\n",
      "Requirement already satisfied: pyparsing>=2.0.2 in /Users/shruti/opt/anaconda3/lib/python3.7/site-packages (from packaging->pytest->pyLDAvis) (2.4.2)\n",
      "Requirement already satisfied: zipp>=0.5 in /Users/shruti/opt/anaconda3/lib/python3.7/site-packages (from importlib-metadata>=0.12->pytest->pyLDAvis) (0.6.0)\n"
     ]
    },
    {
     "name": "stderr",
     "output_type": "stream",
     "text": [
      "[nltk_data] Downloading package punkt to /Users/shruti/nltk_data...\n",
      "[nltk_data]   Package punkt is already up-to-date!\n",
      "[nltk_data] Downloading package wordnet to /Users/shruti/nltk_data...\n",
      "[nltk_data]   Package wordnet is already up-to-date!\n",
      "[nltk_data] Downloading package punkt to /Users/shruti/nltk_data...\n",
      "[nltk_data]   Package punkt is already up-to-date!\n",
      "[nltk_data] Downloading package wordnet to /Users/shruti/nltk_data...\n",
      "[nltk_data]   Package wordnet is already up-to-date!\n",
      "[nltk_data] Downloading package punkt to /Users/shruti/nltk_data...\n",
      "[nltk_data]   Package punkt is already up-to-date!\n",
      "[nltk_data] Downloading package wordnet to /Users/shruti/nltk_data...\n",
      "[nltk_data]   Package wordnet is already up-to-date!\n",
      "[nltk_data] Downloading package punkt to /Users/shruti/nltk_data...\n",
      "[nltk_data]   Package punkt is already up-to-date!\n",
      "[nltk_data] Downloading package wordnet to /Users/shruti/nltk_data...\n",
      "[nltk_data]   Package wordnet is already up-to-date!\n"
     ]
    }
   ],
   "source": [
    "import pandas as pd\n",
    "import gensim\n",
    "from gensim import corpora\n",
    "from pprint import pprint\n",
    "import spacy\n",
    "import re     \n",
    "# Plotting tools\n",
    "!pip install pyLDAvis\n",
    "import pyLDAvis\n",
    "import pyLDAvis.gensim  # don't skip this\n",
    "import matplotlib.pyplot as plt\n",
    "import pickle\n",
    "import nltk\n",
    "nltk.download('punkt')\n",
    "nltk.download('wordnet')\n",
    "from nltk import sent_tokenize, word_tokenize\n",
    "from nltk.stem.snowball import SnowballStemmer\n",
    "from nltk.stem.wordnet import WordNetLemmatizer\n",
    "from nltk.corpus import stopwords\n",
    "from Preprocess import Preprocess\n",
    "from Viz import Viz\n",
    "from LDA import LDA"
   ]
  },
  {
   "cell_type": "markdown",
   "metadata": {},
   "source": [
    "# 1. 2014-2015"
   ]
  },
  {
   "cell_type": "code",
   "execution_count": 13,
   "metadata": {},
   "outputs": [],
   "source": [
    "f1 = 'Raw_data/Awards1415.csv'"
   ]
  },
  {
   "cell_type": "code",
   "execution_count": 14,
   "metadata": {},
   "outputs": [
    {
     "data": {
      "text/html": [
       "<div>\n",
       "<style scoped>\n",
       "    .dataframe tbody tr th:only-of-type {\n",
       "        vertical-align: middle;\n",
       "    }\n",
       "\n",
       "    .dataframe tbody tr th {\n",
       "        vertical-align: top;\n",
       "    }\n",
       "\n",
       "    .dataframe thead th {\n",
       "        text-align: right;\n",
       "    }\n",
       "</style>\n",
       "<table border=\"1\" class=\"dataframe\">\n",
       "  <thead>\n",
       "    <tr style=\"text-align: right;\">\n",
       "      <th></th>\n",
       "      <th>DocID</th>\n",
       "      <th>AwardNumber</th>\n",
       "      <th>Title</th>\n",
       "      <th>NSFOrganization</th>\n",
       "      <th>Program(s)</th>\n",
       "      <th>StartDate</th>\n",
       "      <th>LastAmendmentDate</th>\n",
       "      <th>PrincipalInvestigator</th>\n",
       "      <th>State</th>\n",
       "      <th>Organization</th>\n",
       "      <th>...</th>\n",
       "      <th>OrganizationStreet</th>\n",
       "      <th>OrganizationCity</th>\n",
       "      <th>OrganizationState</th>\n",
       "      <th>OrganizationZip</th>\n",
       "      <th>OrganizationPhone</th>\n",
       "      <th>NSFDirectorate</th>\n",
       "      <th>ProgramElementCode(s)</th>\n",
       "      <th>ProgramReferenceCode(s)</th>\n",
       "      <th>ARRAAmount</th>\n",
       "      <th>Abstract</th>\n",
       "    </tr>\n",
       "  </thead>\n",
       "  <tbody>\n",
       "    <tr>\n",
       "      <td>0</td>\n",
       "      <td>0</td>\n",
       "      <td>1439052</td>\n",
       "      <td>XPS: FULL: DSD: Collaborative Research: Rapid ...</td>\n",
       "      <td>CCF</td>\n",
       "      <td>Exploiting Parallel&amp;Scalabilty</td>\n",
       "      <td>8/1/14</td>\n",
       "      <td>8/5/14</td>\n",
       "      <td>Jack Dongarra</td>\n",
       "      <td>TN</td>\n",
       "      <td>University of Tennessee Knoxville</td>\n",
       "      <td>...</td>\n",
       "      <td>1331 CIR PARK DR</td>\n",
       "      <td>Knoxville</td>\n",
       "      <td>TN</td>\n",
       "      <td>379163801</td>\n",
       "      <td>8.659743e+09</td>\n",
       "      <td>CSE</td>\n",
       "      <td>8283</td>\n",
       "      <td>9150</td>\n",
       "      <td>$0.00</td>\n",
       "      <td>The impact of Big Data is all around us and is...</td>\n",
       "    </tr>\n",
       "    <tr>\n",
       "      <td>1</td>\n",
       "      <td>1</td>\n",
       "      <td>1439007</td>\n",
       "      <td>XPS: FULL: DSD: Collaborative Research: Rapid ...</td>\n",
       "      <td>CCF</td>\n",
       "      <td>Exploiting Parallel&amp;Scalabilty</td>\n",
       "      <td>8/1/14</td>\n",
       "      <td>8/5/14</td>\n",
       "      <td>Geoffrey Fox</td>\n",
       "      <td>IN</td>\n",
       "      <td>Indiana University</td>\n",
       "      <td>...</td>\n",
       "      <td>509 E 3RD ST</td>\n",
       "      <td>Bloomington</td>\n",
       "      <td>IN</td>\n",
       "      <td>474013654</td>\n",
       "      <td>3.172783e+09</td>\n",
       "      <td>CSE</td>\n",
       "      <td>8283</td>\n",
       "      <td>NaN</td>\n",
       "      <td>$0.00</td>\n",
       "      <td>The impact of Big Data is all around us and is...</td>\n",
       "    </tr>\n",
       "    <tr>\n",
       "      <td>2</td>\n",
       "      <td>2</td>\n",
       "      <td>1439005</td>\n",
       "      <td>XPS: FULL: DSD: Collaborative Research: Rapid ...</td>\n",
       "      <td>CCF</td>\n",
       "      <td>Exploiting Parallel&amp;Scalabilty</td>\n",
       "      <td>8/1/14</td>\n",
       "      <td>8/5/14</td>\n",
       "      <td>Andrew Ng</td>\n",
       "      <td>CA</td>\n",
       "      <td>Stanford University</td>\n",
       "      <td>...</td>\n",
       "      <td>450 Jane Stanford Way</td>\n",
       "      <td>Stanford</td>\n",
       "      <td>CA</td>\n",
       "      <td>943052004</td>\n",
       "      <td>6.507232e+09</td>\n",
       "      <td>CSE</td>\n",
       "      <td>8283</td>\n",
       "      <td>NaN</td>\n",
       "      <td>$0.00</td>\n",
       "      <td>The impact of Big Data is all around us and is...</td>\n",
       "    </tr>\n",
       "    <tr>\n",
       "      <td>3</td>\n",
       "      <td>3</td>\n",
       "      <td>1420897</td>\n",
       "      <td>RI: Small: Dynamic Attractor Computing: A Nove...</td>\n",
       "      <td>IIS</td>\n",
       "      <td>Robust Intelligence</td>\n",
       "      <td>10/1/14</td>\n",
       "      <td>8/18/14</td>\n",
       "      <td>Dean Buonomano</td>\n",
       "      <td>CA</td>\n",
       "      <td>University of California-Los Angeles</td>\n",
       "      <td>...</td>\n",
       "      <td>10889 Wilshire Boulevard</td>\n",
       "      <td>LOS ANGELES</td>\n",
       "      <td>CA</td>\n",
       "      <td>900951406</td>\n",
       "      <td>3.107940e+09</td>\n",
       "      <td>CSE</td>\n",
       "      <td>7495</td>\n",
       "      <td>7495, 7923, 8089</td>\n",
       "      <td>$0.00</td>\n",
       "      <td>Harnessing the brain's computational strategie...</td>\n",
       "    </tr>\n",
       "    <tr>\n",
       "      <td>4</td>\n",
       "      <td>4</td>\n",
       "      <td>1451177</td>\n",
       "      <td>CAREER: Machine Learning Theory with Connectio...</td>\n",
       "      <td>CCF</td>\n",
       "      <td>Algorithmic Foundations</td>\n",
       "      <td>6/1/14</td>\n",
       "      <td>9/12/14</td>\n",
       "      <td>Maria-Florina Balcan</td>\n",
       "      <td>PA</td>\n",
       "      <td>Carnegie-Mellon University</td>\n",
       "      <td>...</td>\n",
       "      <td>5000 Forbes Avenue</td>\n",
       "      <td>PITTSBURGH</td>\n",
       "      <td>PA</td>\n",
       "      <td>152133815</td>\n",
       "      <td>4.122689e+09</td>\n",
       "      <td>CSE</td>\n",
       "      <td>7796</td>\n",
       "      <td>1045, 9218</td>\n",
       "      <td>$0.00</td>\n",
       "      <td>Over the years, Machine Learning has become a ...</td>\n",
       "    </tr>\n",
       "    <tr>\n",
       "      <td>...</td>\n",
       "      <td>...</td>\n",
       "      <td>...</td>\n",
       "      <td>...</td>\n",
       "      <td>...</td>\n",
       "      <td>...</td>\n",
       "      <td>...</td>\n",
       "      <td>...</td>\n",
       "      <td>...</td>\n",
       "      <td>...</td>\n",
       "      <td>...</td>\n",
       "      <td>...</td>\n",
       "      <td>...</td>\n",
       "      <td>...</td>\n",
       "      <td>...</td>\n",
       "      <td>...</td>\n",
       "      <td>...</td>\n",
       "      <td>...</td>\n",
       "      <td>...</td>\n",
       "      <td>...</td>\n",
       "      <td>...</td>\n",
       "      <td>...</td>\n",
       "    </tr>\n",
       "    <tr>\n",
       "      <td>437</td>\n",
       "      <td>437</td>\n",
       "      <td>1443133</td>\n",
       "      <td>Spectral Algorithms: From Theory to Practice</td>\n",
       "      <td>CCF</td>\n",
       "      <td>SPECIAL PROJECTS - CCF</td>\n",
       "      <td>9/1/14</td>\n",
       "      <td>5/2/14</td>\n",
       "      <td>Richard Karp</td>\n",
       "      <td>CA</td>\n",
       "      <td>University of California-Berkeley</td>\n",
       "      <td>...</td>\n",
       "      <td>Sponsored Projects Office</td>\n",
       "      <td>BERKELEY</td>\n",
       "      <td>CA</td>\n",
       "      <td>947101749</td>\n",
       "      <td>5.106434e+09</td>\n",
       "      <td>CSE</td>\n",
       "      <td>2878</td>\n",
       "      <td>7796, 7926</td>\n",
       "      <td>$0.00</td>\n",
       "      <td>The workshop on \"Taking Spectral Algorithms fr...</td>\n",
       "    </tr>\n",
       "    <tr>\n",
       "      <td>438</td>\n",
       "      <td>438</td>\n",
       "      <td>1451081</td>\n",
       "      <td>BRAIN EAGER: Discovery and characterization of...</td>\n",
       "      <td>DBI</td>\n",
       "      <td>ADVANCES IN BIO INFORMATICS, Activation</td>\n",
       "      <td>9/1/14</td>\n",
       "      <td>8/18/14</td>\n",
       "      <td>Carey Priebe</td>\n",
       "      <td>MD</td>\n",
       "      <td>Johns Hopkins University</td>\n",
       "      <td>...</td>\n",
       "      <td>1101 E 33rd St</td>\n",
       "      <td>Baltimore</td>\n",
       "      <td>MD</td>\n",
       "      <td>212182686</td>\n",
       "      <td>4.439972e+09</td>\n",
       "      <td>BIO</td>\n",
       "      <td>1165, 7713</td>\n",
       "      <td>7916, 8091</td>\n",
       "      <td>$0.00</td>\n",
       "      <td>Johns Hopkins University is awarded a grant fo...</td>\n",
       "    </tr>\n",
       "    <tr>\n",
       "      <td>439</td>\n",
       "      <td>439</td>\n",
       "      <td>1409612</td>\n",
       "      <td>Computer Science meets Anthropology: A novel a...</td>\n",
       "      <td>SMA</td>\n",
       "      <td>SPRF-IBSS</td>\n",
       "      <td>8/1/14</td>\n",
       "      <td>5/9/14</td>\n",
       "      <td>Kevin Hatala</td>\n",
       "      <td>DC</td>\n",
       "      <td>George Washington University</td>\n",
       "      <td>...</td>\n",
       "      <td>1922 F Street NW</td>\n",
       "      <td>Washington</td>\n",
       "      <td>DC</td>\n",
       "      <td>200520086</td>\n",
       "      <td>2.029941e+09</td>\n",
       "      <td>SBE</td>\n",
       "      <td>8209</td>\n",
       "      <td>NaN</td>\n",
       "      <td>$0.00</td>\n",
       "      <td>Bipedal locomotion is a unique and fundamental...</td>\n",
       "    </tr>\n",
       "    <tr>\n",
       "      <td>440</td>\n",
       "      <td>440</td>\n",
       "      <td>1345813</td>\n",
       "      <td>SBIR Phase I: Autonomous Integration of EMR In...</td>\n",
       "      <td>IIP</td>\n",
       "      <td>SMALL BUSINESS PHASE I</td>\n",
       "      <td>1/1/14</td>\n",
       "      <td>11/27/13</td>\n",
       "      <td>Anil Sethi</td>\n",
       "      <td>CA</td>\n",
       "      <td>Gliimpse LLC</td>\n",
       "      <td>...</td>\n",
       "      <td>645 Harrison St</td>\n",
       "      <td>San Francisco</td>\n",
       "      <td>CA</td>\n",
       "      <td>941070000</td>\n",
       "      <td>4.105992e+09</td>\n",
       "      <td>ENG</td>\n",
       "      <td>5371</td>\n",
       "      <td>5371, 8018, 8032, 8038, 8039, 8042</td>\n",
       "      <td>$0.00</td>\n",
       "      <td>This Small Business Innovation Research (SBIR)...</td>\n",
       "    </tr>\n",
       "    <tr>\n",
       "      <td>441</td>\n",
       "      <td>441</td>\n",
       "      <td>1346113</td>\n",
       "      <td>SBIR Phase I: Low-cost Time-domain Reflectomet...</td>\n",
       "      <td>IIP</td>\n",
       "      <td>SMALL BUSINESS PHASE I</td>\n",
       "      <td>1/1/14</td>\n",
       "      <td>12/4/13</td>\n",
       "      <td>Scott Anderson</td>\n",
       "      <td>ID</td>\n",
       "      <td>Acclima, Inc.</td>\n",
       "      <td>...</td>\n",
       "      <td>1763 W Marcon Lane #175</td>\n",
       "      <td>Meridian</td>\n",
       "      <td>ID</td>\n",
       "      <td>836428203</td>\n",
       "      <td>2.088871e+09</td>\n",
       "      <td>ENG</td>\n",
       "      <td>5371</td>\n",
       "      <td>1185, 5371, 8035, 9139, 9150, HPCC</td>\n",
       "      <td>$0.00</td>\n",
       "      <td>This Small Business Innovation Research (SBIR)...</td>\n",
       "    </tr>\n",
       "  </tbody>\n",
       "</table>\n",
       "<p>442 rows × 26 columns</p>\n",
       "</div>"
      ],
      "text/plain": [
       "     DocID  AwardNumber                                              Title  \\\n",
       "0        0      1439052  XPS: FULL: DSD: Collaborative Research: Rapid ...   \n",
       "1        1      1439007  XPS: FULL: DSD: Collaborative Research: Rapid ...   \n",
       "2        2      1439005  XPS: FULL: DSD: Collaborative Research: Rapid ...   \n",
       "3        3      1420897  RI: Small: Dynamic Attractor Computing: A Nove...   \n",
       "4        4      1451177  CAREER: Machine Learning Theory with Connectio...   \n",
       "..     ...          ...                                                ...   \n",
       "437    437      1443133       Spectral Algorithms: From Theory to Practice   \n",
       "438    438      1451081  BRAIN EAGER: Discovery and characterization of...   \n",
       "439    439      1409612  Computer Science meets Anthropology: A novel a...   \n",
       "440    440      1345813  SBIR Phase I: Autonomous Integration of EMR In...   \n",
       "441    441      1346113  SBIR Phase I: Low-cost Time-domain Reflectomet...   \n",
       "\n",
       "    NSFOrganization                               Program(s) StartDate  \\\n",
       "0               CCF           Exploiting Parallel&Scalabilty    8/1/14   \n",
       "1               CCF           Exploiting Parallel&Scalabilty    8/1/14   \n",
       "2               CCF           Exploiting Parallel&Scalabilty    8/1/14   \n",
       "3               IIS                      Robust Intelligence   10/1/14   \n",
       "4               CCF                  Algorithmic Foundations    6/1/14   \n",
       "..              ...                                      ...       ...   \n",
       "437             CCF                   SPECIAL PROJECTS - CCF    9/1/14   \n",
       "438             DBI  ADVANCES IN BIO INFORMATICS, Activation    9/1/14   \n",
       "439             SMA                                SPRF-IBSS    8/1/14   \n",
       "440             IIP                   SMALL BUSINESS PHASE I    1/1/14   \n",
       "441             IIP                   SMALL BUSINESS PHASE I    1/1/14   \n",
       "\n",
       "    LastAmendmentDate PrincipalInvestigator State  \\\n",
       "0              8/5/14         Jack Dongarra    TN   \n",
       "1              8/5/14          Geoffrey Fox    IN   \n",
       "2              8/5/14             Andrew Ng    CA   \n",
       "3             8/18/14        Dean Buonomano    CA   \n",
       "4             9/12/14  Maria-Florina Balcan    PA   \n",
       "..                ...                   ...   ...   \n",
       "437            5/2/14          Richard Karp    CA   \n",
       "438           8/18/14          Carey Priebe    MD   \n",
       "439            5/9/14          Kevin Hatala    DC   \n",
       "440          11/27/13            Anil Sethi    CA   \n",
       "441           12/4/13        Scott Anderson    ID   \n",
       "\n",
       "                             Organization  ...         OrganizationStreet  \\\n",
       "0       University of Tennessee Knoxville  ...           1331 CIR PARK DR   \n",
       "1                      Indiana University  ...               509 E 3RD ST   \n",
       "2                     Stanford University  ...      450 Jane Stanford Way   \n",
       "3    University of California-Los Angeles  ...   10889 Wilshire Boulevard   \n",
       "4              Carnegie-Mellon University  ...         5000 Forbes Avenue   \n",
       "..                                    ...  ...                        ...   \n",
       "437     University of California-Berkeley  ...  Sponsored Projects Office   \n",
       "438              Johns Hopkins University  ...             1101 E 33rd St   \n",
       "439          George Washington University  ...           1922 F Street NW   \n",
       "440                          Gliimpse LLC  ...            645 Harrison St   \n",
       "441                         Acclima, Inc.  ...    1763 W Marcon Lane #175   \n",
       "\n",
       "    OrganizationCity OrganizationState OrganizationZip OrganizationPhone  \\\n",
       "0          Knoxville                TN       379163801      8.659743e+09   \n",
       "1        Bloomington                IN       474013654      3.172783e+09   \n",
       "2           Stanford                CA       943052004      6.507232e+09   \n",
       "3        LOS ANGELES                CA       900951406      3.107940e+09   \n",
       "4         PITTSBURGH                PA       152133815      4.122689e+09   \n",
       "..               ...               ...             ...               ...   \n",
       "437         BERKELEY                CA       947101749      5.106434e+09   \n",
       "438        Baltimore                MD       212182686      4.439972e+09   \n",
       "439       Washington                DC       200520086      2.029941e+09   \n",
       "440    San Francisco                CA       941070000      4.105992e+09   \n",
       "441         Meridian                ID       836428203      2.088871e+09   \n",
       "\n",
       "    NSFDirectorate ProgramElementCode(s)             ProgramReferenceCode(s)  \\\n",
       "0              CSE                  8283                                9150   \n",
       "1              CSE                  8283                                 NaN   \n",
       "2              CSE                  8283                                 NaN   \n",
       "3              CSE                  7495                    7495, 7923, 8089   \n",
       "4              CSE                  7796                          1045, 9218   \n",
       "..             ...                   ...                                 ...   \n",
       "437            CSE                  2878                          7796, 7926   \n",
       "438            BIO            1165, 7713                          7916, 8091   \n",
       "439            SBE                  8209                                 NaN   \n",
       "440            ENG                  5371  5371, 8018, 8032, 8038, 8039, 8042   \n",
       "441            ENG                  5371  1185, 5371, 8035, 9139, 9150, HPCC   \n",
       "\n",
       "    ARRAAmount                                           Abstract  \n",
       "0       $0.00   The impact of Big Data is all around us and is...  \n",
       "1       $0.00   The impact of Big Data is all around us and is...  \n",
       "2       $0.00   The impact of Big Data is all around us and is...  \n",
       "3       $0.00   Harnessing the brain's computational strategie...  \n",
       "4       $0.00   Over the years, Machine Learning has become a ...  \n",
       "..         ...                                                ...  \n",
       "437     $0.00   The workshop on \"Taking Spectral Algorithms fr...  \n",
       "438     $0.00   Johns Hopkins University is awarded a grant fo...  \n",
       "439     $0.00   Bipedal locomotion is a unique and fundamental...  \n",
       "440     $0.00   This Small Business Innovation Research (SBIR)...  \n",
       "441     $0.00   This Small Business Innovation Research (SBIR)...  \n",
       "\n",
       "[442 rows x 26 columns]"
      ]
     },
     "execution_count": 14,
     "metadata": {},
     "output_type": "execute_result"
    }
   ],
   "source": [
    "pd.read_csv(f1, encoding ='latin1')"
   ]
  },
  {
   "cell_type": "code",
   "execution_count": 15,
   "metadata": {},
   "outputs": [
    {
     "name": "stdout",
     "output_type": "stream",
     "text": [
      "['project', 'research', 'datum', 'use', 'learn', 'develop', 'model', 'new', 'student', 'application', 'algorithm', 'machine', 'provide', 'method', 'include', 'problem', 'science', 'information', 'technology', 'network', 'human', 'design', 'tool', 'work', 'analysis', 'technique', 'computational', 'study', 'approach', 'support', 'user', 'result', 'speech', 'development', 'improve', 'computer', 'advance', 'learning', 'field', 'make', 'image', 'language', 'set', 'propose', 'large', 'software', 'area', 'enable', 'program', 'process']\n"
     ]
    },
    {
     "data": {
      "image/png": "[encoded data removed]",
      "text/plain": [
       "<Figure size 1080x667.491 with 1 Axes>"
      ]
     },
     "metadata": {},
     "output_type": "display_data"
    }
   ],
   "source": [
    "p1= Preprocess(f1)\n",
    "lem1 = p1.clean_lemmatize(True, 50)"
   ]
  },
  {
   "cell_type": "code",
   "execution_count": 17,
   "metadata": {},
   "outputs": [
    {
     "name": "stderr",
     "output_type": "stream",
     "text": [
      "[nltk_data] Downloading package stopwords to\n",
      "[nltk_data]     /Users/shruti/nltk_data...\n",
      "[nltk_data]   Package stopwords is already up-to-date!\n"
     ]
    }
   ],
   "source": [
    "nltk.download('stopwords')\n",
    "from nltk.corpus import stopwords\n",
    "stop_words = stopwords.words('english')\n",
    "custom_stop = ['project', 'research', 'datum', 'use', 'learn', 'develop', 'model', 'new', 'student', 'application', \n",
    "              'algorithm', 'machine', 'provide', 'method', 'include', 'problem', 'science', 'information', \n",
    "              'technology', 'work', 'design', 'tool', 'analysis', 'technique', 'study', 'approach', 'support', 'also', \n",
    "              'result', 'development', 'improve', 'advance', 'learning', 'field', 'make', 'propose', 'area', 'enable', \n",
    "               'program', 'process', 'large', 'system', 'well', 'many']\n",
    "\n",
    "stop_words = stop_words + custom_stop\n",
    "id_1, corpus1, stop1 = p1.create_corpus(lem1, stop_words)"
   ]
  },
  {
   "cell_type": "code",
   "execution_count": 18,
   "metadata": {},
   "outputs": [],
   "source": [
    "file = open('Pickled_Data/1415_data.pkl','wb')\n",
    "pickle.dump(id_1, file)\n",
    "pickle.dump(corpus1, file)\n",
    "pickle.dump(stop1, file)"
   ]
  },
  {
   "cell_type": "markdown",
   "metadata": {},
   "source": [
    "# 2. 2015-2016 "
   ]
  },
  {
   "cell_type": "code",
   "execution_count": 20,
   "metadata": {},
   "outputs": [],
   "source": [
    "f1 = \"Raw_data/Awards1516.csv\"\n",
    "p1= Preprocess(f1)\n",
    "lem1 = p1.clean_lemmatize(False, 50)"
   ]
  },
  {
   "cell_type": "code",
   "execution_count": 21,
   "metadata": {},
   "outputs": [
    {
     "name": "stderr",
     "output_type": "stream",
     "text": [
      "[nltk_data] Downloading package stopwords to\n",
      "[nltk_data]     /Users/shruti/nltk_data...\n",
      "[nltk_data]   Package stopwords is already up-to-date!\n"
     ]
    }
   ],
   "source": [
    "nltk.download('stopwords')\n",
    "from nltk.corpus import stopwords\n",
    "stop_words = stopwords.words('english')\n",
    "custom_stop = ['project', 'research', 'datum', 'use', 'learn', 'develop', 'model', 'new', 'student', 'application', \n",
    "              'algorithm', 'machine', 'provide', 'method', 'include', 'problem', 'science', 'information', \n",
    "              'technology', 'work', 'design', 'tool', 'analysis', 'technique', 'study', 'approach', 'support', 'also', \n",
    "              'result', 'development', 'improve', 'advance', 'learning', 'field', 'make', 'propose', 'area', 'enable', \n",
    "               'program', 'process', 'large', 'system', 'well', 'many']\n",
    "stop_words = stop_words + custom_stop\n",
    "id_1, corpus1, stop1 = p1.create_corpus(lem1, stop_words)"
   ]
  },
  {
   "cell_type": "code",
   "execution_count": 22,
   "metadata": {},
   "outputs": [],
   "source": [
    "file = open('Pickled_Data/1516_data.pkl','wb')\n",
    "pickle.dump(id_1, file)\n",
    "pickle.dump(corpus1, file)\n",
    "pickle.dump(stop1, file)"
   ]
  },
  {
   "cell_type": "markdown",
   "metadata": {},
   "source": [
    "# 3. 2016-2017 Corpus"
   ]
  },
  {
   "cell_type": "code",
   "execution_count": 23,
   "metadata": {},
   "outputs": [],
   "source": [
    "f1 = 'Raw_Data/Awards1617.csv'\n",
    "p1= Preprocess(f1)\n",
    "lem1 = p1.clean_lemmatize(False, 50)"
   ]
  },
  {
   "cell_type": "code",
   "execution_count": 24,
   "metadata": {},
   "outputs": [
    {
     "name": "stderr",
     "output_type": "stream",
     "text": [
      "[nltk_data] Downloading package stopwords to\n",
      "[nltk_data]     /Users/shruti/nltk_data...\n",
      "[nltk_data]   Package stopwords is already up-to-date!\n"
     ]
    }
   ],
   "source": [
    "nltk.download('stopwords')\n",
    "from nltk.corpus import stopwords\n",
    "stop_words = stopwords.words('english')\n",
    "custom_stop = ['project', 'research', 'datum', 'use', 'learn', 'develop', 'model', 'new', 'student', 'application', \n",
    "              'algorithm', 'machine', 'provide', 'method', 'include', 'problem', 'science', 'information', \n",
    "              'technology', 'work', 'design', 'tool', 'analysis', 'technique', 'study', 'approach', 'support', 'also', \n",
    "              'result', 'development', 'improve', 'advance', 'learning', 'field', 'make', 'propose', 'area', 'enable', \n",
    "               'program', 'process', 'large', 'system', 'well', 'many']\n",
    "stop_words = stop_words + custom_stop\n",
    "id_1, corpus1, stop1 = p1.create_corpus(lem1, stop_words)"
   ]
  },
  {
   "cell_type": "code",
   "execution_count": 25,
   "metadata": {},
   "outputs": [],
   "source": [
    "file = open('Pickled_Data/1617_data.pkl','wb')\n",
    "pickle.dump(id_1, file)\n",
    "pickle.dump(corpus1, file)\n",
    "pickle.dump(stop1, file)"
   ]
  },
  {
   "cell_type": "markdown",
   "metadata": {},
   "source": [
    "# 4. 2017-2018 Corpus"
   ]
  },
  {
   "cell_type": "code",
   "execution_count": 26,
   "metadata": {},
   "outputs": [
    {
     "name": "stderr",
     "output_type": "stream",
     "text": [
      "[nltk_data] Downloading package stopwords to\n",
      "[nltk_data]     /Users/shruti/nltk_data...\n",
      "[nltk_data]   Package stopwords is already up-to-date!\n"
     ]
    }
   ],
   "source": [
    "f1 = 'Raw_Data/Awards1718.csv'\n",
    "p1= Preprocess(f1)\n",
    "lem1 = p1.clean_lemmatize(False, 50)\n",
    "\n",
    "nltk.download('stopwords')\n",
    "from nltk.corpus import stopwords\n",
    "stop_words = stopwords.words('english')\n",
    "custom_stop = ['project', 'research', 'datum', 'use', 'learn', 'develop', 'model', 'new', 'student', 'application', \n",
    "              'algorithm', 'machine', 'provide', 'method', 'include', 'problem', 'science', 'information', \n",
    "              'technology', 'work', 'design', 'tool', 'analysis', 'technique', 'study', 'approach', 'support', 'also', \n",
    "              'result', 'development', 'improve', 'advance', 'learning', 'field', 'make', 'propose', 'area', 'enable', \n",
    "               'program', 'process', 'large', 'system', 'well', 'many']\n",
    "stop_words = stop_words + custom_stop\n",
    "id_1, corpus1, stop1 = p1.create_corpus(lem1, stop_words)\n",
    "\n",
    "file = open('Pickled_data/1718_data.pkl','wb')\n",
    "pickle.dump(id_1, file)\n",
    "pickle.dump(corpus1, file)\n",
    "pickle.dump(stop1, file)"
   ]
  },
  {
   "cell_type": "markdown",
   "metadata": {},
   "source": [
    "# 5. 2018-2019 Corpus"
   ]
  },
  {
   "cell_type": "code",
   "execution_count": 2,
   "metadata": {},
   "outputs": [
    {
     "name": "stderr",
     "output_type": "stream",
     "text": [
      "[nltk_data] Downloading package stopwords to\n",
      "[nltk_data]     /Users/shruti/nltk_data...\n",
      "[nltk_data]   Package stopwords is already up-to-date!\n"
     ]
    }
   ],
   "source": [
    "f1 = 'Raw_Data/Awards1819.csv'\n",
    "p1= Preprocess(f1)\n",
    "lem1 = p1.clean_lemmatize(False, 50)\n",
    "\n",
    "nltk.download('stopwords')\n",
    "from nltk.corpus import stopwords\n",
    "stop_words = stopwords.words('english')\n",
    "custom_stop = ['project', 'research', 'datum', 'use', 'learn', 'develop', 'model', 'new', 'student', 'application', \n",
    "              'algorithm', 'machine', 'provide', 'method', 'include', 'problem', 'science', 'information', \n",
    "              'technology', 'work', 'design', 'tool', 'analysis', 'technique', 'study', 'approach', 'support', 'also', \n",
    "              'result', 'development', 'improve', 'advance', 'learning', 'field', 'make', 'propose', 'area', 'enable', \n",
    "               'program', 'process', 'large', 'system', 'well', 'many', 'broader_impact', 'mission', 'evaluation', 'merit',\n",
    "               'worthy', 'been_deeme', 'nsfs_statutory', 'award_reflect', 'review_criteria']\n",
    "stop_words = stop_words + custom_stop\n",
    "id_1, corpus1, stop1 = p1.create_corpus(lem1, stop_words)\n",
    "\n",
    "file = open('Pickled_data/1819_data.pkl','wb')\n",
    "pickle.dump(id_1, file)\n",
    "pickle.dump(corpus1, file)\n",
    "pickle.dump(stop1, file)"
   ]
  },
  {
   "cell_type": "markdown",
   "metadata": {},
   "source": [
    "# 6. 2019-2020 Corpus"
   ]
  },
  {
   "cell_type": "code",
   "execution_count": 3,
   "metadata": {},
   "outputs": [
    {
     "name": "stderr",
     "output_type": "stream",
     "text": [
      "[nltk_data] Downloading package stopwords to\n",
      "[nltk_data]     /Users/shruti/nltk_data...\n",
      "[nltk_data]   Package stopwords is already up-to-date!\n"
     ]
    }
   ],
   "source": [
    "f1 = 'Raw_Data/Awards1920.csv'\n",
    "p1= Preprocess(f1)\n",
    "lem1 = p1.clean_lemmatize(False, 50)\n",
    "\n",
    "nltk.download('stopwords')\n",
    "from nltk.corpus import stopwords\n",
    "stop_words = stopwords.words('english')\n",
    "custom_stop = ['project', 'research', 'datum', 'use', 'learn', 'develop', 'model', 'new', 'student', 'application', \n",
    "              'algorithm', 'machine', 'provide', 'method', 'include', 'problem', 'science', 'information', \n",
    "              'technology', 'work', 'design', 'tool', 'analysis', 'technique', 'study', 'approach', 'support', 'also', \n",
    "              'result', 'development', 'improve', 'advance', 'learning', 'field', 'make', 'propose', 'area', 'enable', \n",
    "               'program', 'process', 'large', 'system', 'well', 'many', 'broader_impact', 'mission', 'evaluation', 'merit',\n",
    "               'worthy', 'been_deeme', 'nsfs_statutory', 'award_reflect', 'review_criteria']\n",
    "stop_words = stop_words + custom_stop\n",
    "id_1, corpus1, stop1 = p1.create_corpus(lem1, stop_words)\n",
    "\n",
    "file = open('Pickled_data/1920_data.pkl','wb')\n",
    "pickle.dump(id_1, file)\n",
    "pickle.dump(corpus1, file)\n",
    "pickle.dump(stop1, file)"
   ]
  },
  {
   "cell_type": "markdown",
   "metadata": {},
   "source": [
    "# 7. 2013-2014 corpus"
   ]
  },
  {
   "cell_type": "code",
   "execution_count": 31,
   "metadata": {},
   "outputs": [
    {
     "name": "stderr",
     "output_type": "stream",
     "text": [
      "[nltk_data] Downloading package stopwords to\n",
      "[nltk_data]     /Users/shruti/nltk_data...\n",
      "[nltk_data]   Package stopwords is already up-to-date!\n"
     ]
    }
   ],
   "source": [
    "f1 = 'Raw_Data/Awards1314.csv'\n",
    "p1= Preprocess(f1)\n",
    "lem1 = p1.clean_lemmatize(False, 50)\n",
    "\n",
    "nltk.download('stopwords')\n",
    "from nltk.corpus import stopwords\n",
    "stop_words = stopwords.words('english')\n",
    "custom_stop = ['project', 'research', 'datum', 'use', 'learn', 'develop', 'model', 'new', 'student', 'application', \n",
    "              'algorithm', 'machine', 'provide', 'method', 'include', 'problem', 'science', 'information', \n",
    "              'technology', 'work', 'design', 'tool', 'analysis', 'technique', 'study', 'approach', 'support', 'also', \n",
    "              'result', 'development', 'improve', 'advance', 'learning', 'field', 'make', 'propose', 'area', 'enable', \n",
    "               'program', 'process', 'large', 'system', 'well', 'many']\n",
    "stop_words = stop_words + custom_stop\n",
    "id_1, corpus1, stop1 = p1.create_corpus(lem1, stop_words)\n",
    "\n",
    "file = open('Pickled_data/1314_data.pkl','wb')\n",
    "pickle.dump(id_1, file)\n",
    "pickle.dump(corpus1, file)\n",
    "pickle.dump(stop1, file)"
   ]
  },
  {
   "cell_type": "markdown",
   "metadata": {},
   "source": [
    "# 8. 2012-2013 corpus"
   ]
  },
  {
   "cell_type": "code",
   "execution_count": 32,
   "metadata": {},
   "outputs": [
    {
     "name": "stderr",
     "output_type": "stream",
     "text": [
      "[nltk_data] Downloading package stopwords to\n",
      "[nltk_data]     /Users/shruti/nltk_data...\n",
      "[nltk_data]   Package stopwords is already up-to-date!\n"
     ]
    }
   ],
   "source": [
    "f1 = 'Raw_Data/Awards1213.csv'\n",
    "p1= Preprocess(f1)\n",
    "lem1 = p1.clean_lemmatize(False, 50)\n",
    "\n",
    "nltk.download('stopwords')\n",
    "from nltk.corpus import stopwords\n",
    "stop_words = stopwords.words('english')\n",
    "custom_stop = ['project', 'research', 'datum', 'use', 'learn', 'develop', 'model', 'new', 'student', 'application', \n",
    "              'algorithm', 'machine', 'provide', 'method', 'include', 'problem', 'science', 'information', \n",
    "              'technology', 'work', 'design', 'tool', 'analysis', 'technique', 'study', 'approach', 'support', 'also', \n",
    "              'result', 'development', 'improve', 'advance', 'learning', 'field', 'make', 'propose', 'area', 'enable', \n",
    "               'program', 'process', 'large', 'system', 'well', 'many']\n",
    "stop_words = stop_words + custom_stop\n",
    "id_1, corpus1, stop1 = p1.create_corpus(lem1, stop_words)\n",
    "\n",
    "file = open('Pickled_data/1213_data.pkl','wb')\n",
    "pickle.dump(id_1, file)\n",
    "pickle.dump(corpus1, file)\n",
    "pickle.dump(stop1, file)"
   ]
  },
  {
   "cell_type": "markdown",
   "metadata": {},
   "source": [
    "# 9. 2011-2012 corpus"
   ]
  },
  {
   "cell_type": "code",
   "execution_count": 33,
   "metadata": {},
   "outputs": [
    {
     "name": "stderr",
     "output_type": "stream",
     "text": [
      "[nltk_data] Downloading package stopwords to\n",
      "[nltk_data]     /Users/shruti/nltk_data...\n",
      "[nltk_data]   Package stopwords is already up-to-date!\n"
     ]
    }
   ],
   "source": [
    "f1 = 'Raw_Data/Awards1112.csv'\n",
    "p1= Preprocess(f1)\n",
    "lem1 = p1.clean_lemmatize(False, 50)\n",
    "\n",
    "nltk.download('stopwords')\n",
    "from nltk.corpus import stopwords\n",
    "stop_words = stopwords.words('english')\n",
    "custom_stop = ['project', 'research', 'datum', 'use', 'learn', 'develop', 'model', 'new', 'student', 'application', \n",
    "              'algorithm', 'machine', 'provide', 'method', 'include', 'problem', 'science', 'information', \n",
    "              'technology', 'work', 'design', 'tool', 'analysis', 'technique', 'study', 'approach', 'support', 'also', \n",
    "              'result', 'development', 'improve', 'advance', 'learning', 'field', 'make', 'propose', 'area', 'enable', \n",
    "               'program', 'process', 'large', 'system', 'well', 'many']\n",
    "stop_words = stop_words + custom_stop\n",
    "id_1, corpus1, stop1 = p1.create_corpus(lem1, stop_words)\n",
    "\n",
    "file = open('Pickled_data/1112_data.pkl','wb')\n",
    "pickle.dump(id_1, file)\n",
    "pickle.dump(corpus1, file)\n",
    "pickle.dump(stop1, file)"
   ]
  },
  {
   "cell_type": "markdown",
   "metadata": {},
   "source": [
    "# 10. 2010-2011 corpus"
   ]
  },
  {
   "cell_type": "code",
   "execution_count": 34,
   "metadata": {},
   "outputs": [
    {
     "name": "stderr",
     "output_type": "stream",
     "text": [
      "[nltk_data] Downloading package stopwords to\n",
      "[nltk_data]     /Users/shruti/nltk_data...\n",
      "[nltk_data]   Package stopwords is already up-to-date!\n"
     ]
    }
   ],
   "source": [
    "f1 = 'Raw_Data/Awards1011.csv'\n",
    "p1= Preprocess(f1)\n",
    "lem1 = p1.clean_lemmatize(False, 50)\n",
    "\n",
    "nltk.download('stopwords')\n",
    "from nltk.corpus import stopwords\n",
    "stop_words = stopwords.words('english')\n",
    "custom_stop = ['project', 'research', 'datum', 'use', 'learn', 'develop', 'model', 'new', 'student', 'application', \n",
    "              'algorithm', 'machine', 'provide', 'method', 'include', 'problem', 'science', 'information', \n",
    "              'technology', 'work', 'design', 'tool', 'analysis', 'technique', 'study', 'approach', 'support', 'also', \n",
    "              'result', 'development', 'improve', 'advance', 'learning', 'field', 'make', 'propose', 'area', 'enable', \n",
    "               'program', 'process', 'large', 'system', 'well', 'many']\n",
    "stop_words = stop_words + custom_stop\n",
    "id_1, corpus1, stop1 = p1.create_corpus(lem1, stop_words)\n",
    "\n",
    "file = open('Pickled_data/1011_data.pkl','wb')\n",
    "pickle.dump(id_1, file)\n",
    "pickle.dump(corpus1, file)\n",
    "pickle.dump(stop1, file)"
   ]
  }
 ],
 "metadata": {
  "kernelspec": {
   "display_name": "Python 3",
   "language": "python",
   "name": "python3"
  },
  "language_info": {
   "codemirror_mode": {
    "name": "ipython",
    "version": 3
   },
   "file_extension": ".py",
   "mimetype": "text/x-python",
   "name": "python",
   "nbconvert_exporter": "python",
   "pygments_lexer": "ipython3",
   "version": "3.7.4"
  }
 },
 "nbformat": 4,
 "nbformat_minor": 2
}
