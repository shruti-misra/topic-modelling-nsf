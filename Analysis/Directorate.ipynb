{
 "cells": [
  {
   "cell_type": "code",
   "execution_count": 5,
   "metadata": {},
   "outputs": [
    {
     "name": "stdout",
     "output_type": "stream",
     "text": [
      "Requirement already satisfied: pyLDAvis in /Users/shruti/opt/anaconda3/lib/python3.7/site-packages (2.1.2)\n",
      "Requirement already satisfied: wheel>=0.23.0 in /Users/shruti/opt/anaconda3/lib/python3.7/site-packages (from pyLDAvis) (0.33.6)\n",
      "Requirement already satisfied: numpy>=1.9.2 in /Users/shruti/opt/anaconda3/lib/python3.7/site-packages (from pyLDAvis) (1.17.2)\n",
      "Requirement already satisfied: scipy>=0.18.0 in /Users/shruti/opt/anaconda3/lib/python3.7/site-packages (from pyLDAvis) (1.4.1)\n",
      "Requirement already satisfied: pandas>=0.17.0 in /Users/shruti/opt/anaconda3/lib/python3.7/site-packages (from pyLDAvis) (0.25.1)\n",
      "Requirement already satisfied: joblib>=0.8.4 in /Users/shruti/opt/anaconda3/lib/python3.7/site-packages (from pyLDAvis) (0.13.2)\n",
      "Requirement already satisfied: jinja2>=2.7.2 in /Users/shruti/opt/anaconda3/lib/python3.7/site-packages (from pyLDAvis) (2.10.3)\n",
      "Requirement already satisfied: numexpr in /Users/shruti/opt/anaconda3/lib/python3.7/site-packages (from pyLDAvis) (2.7.0)\n",
      "Requirement already satisfied: pytest in /Users/shruti/opt/anaconda3/lib/python3.7/site-packages (from pyLDAvis) (5.2.1)\n",
      "Requirement already satisfied: future in /Users/shruti/opt/anaconda3/lib/python3.7/site-packages (from pyLDAvis) (0.18.2)\n",
      "Requirement already satisfied: funcy in /Users/shruti/opt/anaconda3/lib/python3.7/site-packages (from pyLDAvis) (1.14)\n",
      "Requirement already satisfied: pytz>=2017.2 in /Users/shruti/opt/anaconda3/lib/python3.7/site-packages (from pandas>=0.17.0->pyLDAvis) (2019.3)\n",
      "Requirement already satisfied: python-dateutil>=2.6.1 in /Users/shruti/opt/anaconda3/lib/python3.7/site-packages (from pandas>=0.17.0->pyLDAvis) (2.8.0)\n",
      "Requirement already satisfied: MarkupSafe>=0.23 in /Users/shruti/opt/anaconda3/lib/python3.7/site-packages (from jinja2>=2.7.2->pyLDAvis) (1.1.1)\n",
      "Requirement already satisfied: py>=1.5.0 in /Users/shruti/opt/anaconda3/lib/python3.7/site-packages (from pytest->pyLDAvis) (1.8.0)\n",
      "Requirement already satisfied: packaging in /Users/shruti/opt/anaconda3/lib/python3.7/site-packages (from pytest->pyLDAvis) (19.2)\n",
      "Requirement already satisfied: attrs>=17.4.0 in /Users/shruti/opt/anaconda3/lib/python3.7/site-packages (from pytest->pyLDAvis) (19.2.0)\n",
      "Requirement already satisfied: more-itertools>=4.0.0 in /Users/shruti/opt/anaconda3/lib/python3.7/site-packages (from pytest->pyLDAvis) (7.2.0)\n",
      "Requirement already satisfied: atomicwrites>=1.0 in /Users/shruti/opt/anaconda3/lib/python3.7/site-packages (from pytest->pyLDAvis) (1.3.0)\n",
      "Requirement already satisfied: pluggy<1.0,>=0.12 in /Users/shruti/opt/anaconda3/lib/python3.7/site-packages (from pytest->pyLDAvis) (0.13.0)\n",
      "Requirement already satisfied: wcwidth in /Users/shruti/opt/anaconda3/lib/python3.7/site-packages (from pytest->pyLDAvis) (0.1.7)\n",
      "Requirement already satisfied: importlib-metadata>=0.12 in /Users/shruti/opt/anaconda3/lib/python3.7/site-packages (from pytest->pyLDAvis) (0.23)\n",
      "Requirement already satisfied: six>=1.5 in /Users/shruti/opt/anaconda3/lib/python3.7/site-packages (from python-dateutil>=2.6.1->pandas>=0.17.0->pyLDAvis) (1.12.0)\n",
      "Requirement already satisfied: pyparsing>=2.0.2 in /Users/shruti/opt/anaconda3/lib/python3.7/site-packages (from packaging->pytest->pyLDAvis) (2.4.2)\n",
      "Requirement already satisfied: zipp>=0.5 in /Users/shruti/opt/anaconda3/lib/python3.7/site-packages (from importlib-metadata>=0.12->pytest->pyLDAvis) (0.6.0)\n"
     ]
    },
    {
     "name": "stderr",
     "output_type": "stream",
     "text": [
      "[nltk_data] Downloading package punkt to /Users/shruti/nltk_data...\n",
      "[nltk_data]   Package punkt is already up-to-date!\n",
      "[nltk_data] Downloading package wordnet to /Users/shruti/nltk_data...\n",
      "[nltk_data]   Package wordnet is already up-to-date!\n"
     ]
    }
   ],
   "source": [
    "import pandas as pd\n",
    "import gensim\n",
    "from gensim import corpora\n",
    "from pprint import pprint\n",
    "import spacy\n",
    "import re     \n",
    "# Plotting tools\n",
    "!pip install pyLDAvis\n",
    "import pyLDAvis\n",
    "import pyLDAvis.gensim  # don't skip this\n",
    "import matplotlib.pyplot as plt\n",
    "import pickle\n",
    "import nltk\n",
    "nltk.download('punkt')\n",
    "nltk.download('wordnet')\n",
    "from nltk import sent_tokenize, word_tokenize\n",
    "from nltk.stem.snowball import SnowballStemmer\n",
    "from nltk.stem.wordnet import WordNetLemmatizer\n",
    "from nltk.corpus import stopwords\n",
    "from Preprocess import Preprocess\n",
    "from Viz import Viz\n",
    "from LDA import LDA"
   ]
  },
  {
   "cell_type": "markdown",
   "metadata": {},
   "source": [
    "## 1. 2010-2011"
   ]
  },
  {
   "cell_type": "code",
   "execution_count": 6,
   "metadata": {},
   "outputs": [],
   "source": [
    "infile = open('Pickled_Data/1011_data.pkl','rb')\n",
    "id_1 =  pickle.load(infile)\n",
    "corpus1 = pickle.load(infile)\n",
    "stop1 = pickle.load(infile)"
   ]
  },
  {
   "cell_type": "code",
   "execution_count": 7,
   "metadata": {},
   "outputs": [
    {
     "name": "stdout",
     "output_type": "stream",
     "text": [
      "\n",
      "Coherence Score:  0.21611263952226165\n"
     ]
    }
   ],
   "source": [
    "file = open('Pickled_models/1011_model.pkl','rb')\n",
    "best_tm = pickle.load(file)\n",
    "model_1011 = LDA(id_1, corpus1, 3, stop1, best_tm)"
   ]
  },
  {
   "cell_type": "code",
   "execution_count": 8,
   "metadata": {},
   "outputs": [
    {
     "name": "stdout",
     "output_type": "stream",
     "text": [
      "0\n",
      "100\n",
      "200\n",
      "300\n"
     ]
    }
   ],
   "source": [
    "#Compute funding per topic\n",
    "file = 'Raw_Data/Awards1011.csv'\n",
    "dir_ = model_1011.dominant_directorate(file)"
   ]
  },
  {
   "cell_type": "code",
   "execution_count": 9,
   "metadata": {},
   "outputs": [
    {
     "data": {
      "text/plain": [
       "{0: {'CSE': 46,\n",
       "  'MPS': 6,\n",
       "  'ENG': 13,\n",
       "  'BIO': 11,\n",
       "  'O/D': 1,\n",
       "  'SBE': 3,\n",
       "  'GEO': 1,\n",
       "  'EHR': 3},\n",
       " 1: {'CSE': 93,\n",
       "  'ENG': 11,\n",
       "  'SBE': 12,\n",
       "  'MPS': 8,\n",
       "  'BIO': 10,\n",
       "  'EHR': 5,\n",
       "  'O/D': 1,\n",
       "  'GEO': 1},\n",
       " 2: {'ENG': 14, 'CSE': 49, 'SBE': 5, 'EHR': 4, 'BIO': 3, 'MPS': 5}}"
      ]
     },
     "execution_count": 9,
     "metadata": {},
     "output_type": "execute_result"
    }
   ],
   "source": [
    "dir_"
   ]
  },
  {
   "cell_type": "markdown",
   "metadata": {},
   "source": [
    "# 2. 2011-2012"
   ]
  },
  {
   "cell_type": "code",
   "execution_count": 10,
   "metadata": {},
   "outputs": [],
   "source": [
    "infile = open('Pickled_Data/1112_data.pkl','rb')\n",
    "id_1 =  pickle.load(infile)\n",
    "corpus1 = pickle.load(infile)\n",
    "stop1 = pickle.load(infile)"
   ]
  },
  {
   "cell_type": "code",
   "execution_count": 11,
   "metadata": {},
   "outputs": [
    {
     "name": "stdout",
     "output_type": "stream",
     "text": [
      "\n",
      "Coherence Score:  0.2181862858865856\n",
      "0\n",
      "100\n",
      "200\n",
      "300\n"
     ]
    },
    {
     "data": {
      "text/plain": [
       "{0: {'CSE': 79,\n",
       "  'BIO': 4,\n",
       "  'ENG': 19,\n",
       "  'MPS': 8,\n",
       "  'EHR': 3,\n",
       "  'SBE': 4,\n",
       "  'GEO': 2,\n",
       "  'O/D': 1},\n",
       " 1: {'CSE': 94,\n",
       "  'ENG': 12,\n",
       "  'EHR': 6,\n",
       "  'BIO': 8,\n",
       "  'GEO': 2,\n",
       "  'MPS': 10,\n",
       "  'SBE': 4,\n",
       "  'O/D': 1},\n",
       " 2: {'CSE': 51, 'MPS': 7, 'SBE': 3, 'ENG': 10, 'GEO': 2}}"
      ]
     },
     "execution_count": 11,
     "metadata": {},
     "output_type": "execute_result"
    }
   ],
   "source": [
    "file = open('Pickled_models/1112_model.pkl','rb')\n",
    "best_tm = pickle.load(file)\n",
    "model_1112 = LDA(id_1, corpus1, 3, stop1, best_tm)\n",
    "\n",
    "#Compute funding per topic\n",
    "file = 'Raw_Data/Awards1112.csv'\n",
    "dir_ = model_1112.dominant_directorate(file)\n",
    "dir_"
   ]
  },
  {
   "cell_type": "code",
   "execution_count": 12,
   "metadata": {},
   "outputs": [
    {
     "name": "stdout",
     "output_type": "stream",
     "text": [
      "\n",
      "Coherence Score:  0.2498170891375951\n",
      "0\n",
      "100\n",
      "200\n",
      "300\n"
     ]
    },
    {
     "data": {
      "text/plain": [
       "{0: {'CSE': 57, 'ENG': 17, 'SBE': 6, 'EHR': 9, 'MPS': 4, 'BIO': 5, 'GEO': 1},\n",
       " 1: {'MPS': 17, 'CSE': 84, 'EHR': 2, 'BIO': 7, 'SBE': 8, 'ENG': 12, 'O/D': 1},\n",
       " 2: {'CSE': 43, 'ENG': 7, 'BIO': 13, 'SBE': 4, 'MPS': 1, 'O/D': 1, 'EHR': 1},\n",
       " 3: {'GEO': 3, 'CSE': 37, 'MPS': 7, 'SBE': 3, 'ENG': 5, 'BIO': 1}}"
      ]
     },
     "execution_count": 12,
     "metadata": {},
     "output_type": "execute_result"
    }
   ],
   "source": [
    "## 1. 2012-2013\n",
    "\n",
    "infile = open('Pickled_Data/1213_data.pkl','rb')\n",
    "id_1 =  pickle.load(infile)\n",
    "corpus1 = pickle.load(infile)\n",
    "stop1 = pickle.load(infile)\n",
    "\n",
    "file = open('Pickled_models/1213_model.pkl','rb')\n",
    "best_tm = pickle.load(file)\n",
    "model_1213 = LDA(id_1, corpus1, 4, stop1, best_tm)\n",
    "\n",
    "#Compute funding per topic\n",
    "file = 'Raw_Data/Awards1213.csv'\n",
    "dir_ = model_1213.dominant_directorate(file)\n",
    "dir_"
   ]
  },
  {
   "cell_type": "code",
   "execution_count": 13,
   "metadata": {},
   "outputs": [
    {
     "name": "stdout",
     "output_type": "stream",
     "text": [
      "\n",
      "Coherence Score:  0.33160929278630175\n",
      "0\n",
      "100\n",
      "200\n",
      "300\n"
     ]
    },
    {
     "data": {
      "text/plain": [
       "{0: {'MPS': 5, 'CSE': 25, 'EHR': 2, 'BIO': 5, 'ENG': 7, 'O/D': 3, 'SBE': 2},\n",
       " 1: {'CSE': 42, 'ENG': 7, 'MPS': 7, 'SBE': 4, 'BIO': 4, 'GEO': 1, 'O/D': 1},\n",
       " 2: {'GEO': 2, 'CSE': 37, 'ENG': 6, 'MPS': 6, 'EHR': 4, 'SBE': 4, 'O/D': 1},\n",
       " 3: {'CSE': 55, 'MPS': 17, 'ENG': 18, 'SBE': 2, 'O/D': 1, 'BIO': 2},\n",
       " 4: {'CSE': 65, 'SBE': 3, 'ENG': 8, 'BIO': 4, 'EHR': 3, 'O/D': 3, 'MPS': 3}}"
      ]
     },
     "execution_count": 13,
     "metadata": {},
     "output_type": "execute_result"
    }
   ],
   "source": [
    "## 1. 2013-2014\n",
    "\n",
    "infile = open('Pickled_Data/1314_data.pkl','rb')\n",
    "id_1 =  pickle.load(infile)\n",
    "corpus1 = pickle.load(infile)\n",
    "stop1 = pickle.load(infile)\n",
    "\n",
    "file = open('Pickled_models/1314_model.pkl','rb')\n",
    "best_tm = pickle.load(file)\n",
    "model_1314 = LDA(id_1, corpus1, 5, stop1, best_tm)\n",
    "\n",
    "#Compute funding per topic\n",
    "file = 'Raw_Data/Awards1314.csv'\n",
    "dir_ = model_1314.dominant_directorate(file)\n",
    "dir_"
   ]
  },
  {
   "cell_type": "code",
   "execution_count": 14,
   "metadata": {},
   "outputs": [
    {
     "name": "stdout",
     "output_type": "stream",
     "text": [
      "\n",
      "Coherence Score:  0.2411824219691563\n",
      "0\n",
      "100\n",
      "200\n",
      "300\n",
      "400\n"
     ]
    },
    {
     "data": {
      "text/plain": [
       "{0: {'MPS': 14, 'ENG': 13, 'CSE': 74, 'BIO': 4, 'SBE': 5, 'EHR': 2, 'O/D': 1},\n",
       " 1: {'CSE': 41, 'ENG': 8, 'BIO': 4, 'SBE': 7, 'EHR': 2, 'MPS': 3},\n",
       " 2: {'CSE': 40, 'MPS': 9, 'BIO': 2, 'SBE': 2, 'ENG': 4, 'O/D': 2},\n",
       " 3: {'SBE': 12, 'O/D': 2, 'CSE': 72, 'MPS': 8, 'ENG': 16, 'EHR': 2, 'BIO': 1},\n",
       " 4: {'CSE': 53, 'ENG': 5, 'SBE': 7, 'EHR': 9, 'MPS': 10, 'BIO': 4, 'GEO': 1}}"
      ]
     },
     "execution_count": 14,
     "metadata": {},
     "output_type": "execute_result"
    }
   ],
   "source": [
    "## 1. 2014-2015\n",
    "\n",
    "infile = open('Pickled_Data/1415_data.pkl','rb')\n",
    "id_1 =  pickle.load(infile)\n",
    "corpus1 = pickle.load(infile)\n",
    "stop1 = pickle.load(infile)\n",
    "\n",
    "file = open('Pickled_models/1415_model.pkl','rb')\n",
    "best_tm = pickle.load(file)\n",
    "model_1415 = LDA(id_1, corpus1, 5, stop1, best_tm)\n",
    "\n",
    "#Compute funding per topic\n",
    "file = 'Raw_Data/Awards1415.csv'\n",
    "dir_ = model_1415.dominant_directorate(file)\n",
    "dir_"
   ]
  },
  {
   "cell_type": "code",
   "execution_count": 15,
   "metadata": {},
   "outputs": [
    {
     "name": "stdout",
     "output_type": "stream",
     "text": [
      "\n",
      "Coherence Score:  0.2314483489819327\n",
      "0\n",
      "100\n",
      "200\n",
      "300\n",
      "400\n",
      "500\n"
     ]
    },
    {
     "data": {
      "text/plain": [
       "{0: {'ENG': 19,\n",
       "  'CSE': 79,\n",
       "  'BIO': 7,\n",
       "  'MPS': 5,\n",
       "  'GEO': 2,\n",
       "  'SBE': 5,\n",
       "  'O/D': 2,\n",
       "  'EHR': 3},\n",
       " 1: {'MPS': 9, 'ENG': 17, 'SBE': 13, 'CSE': 63, 'BIO': 3, 'O/D': 1, 'EHR': 1},\n",
       " 2: {'O/D': 4, 'MPS': 7, 'CSE': 31, 'ENG': 4, 'SBE': 1, 'BIO': 2},\n",
       " 3: {'CSE': 36, 'MPS': 8, 'ENG': 20, 'BIO': 2, 'SBE': 4, 'O/D': 1, 'EHR': 2},\n",
       " 4: {'ENG': 12, 'MPS': 10, 'CSE': 26, 'BIO': 4, 'SBE': 4},\n",
       " 5: {'MPS': 20, 'CSE': 63, 'ENG': 24, 'BIO': 3, 'SBE': 12, 'EHR': 7, 'O/D': 2}}"
      ]
     },
     "execution_count": 15,
     "metadata": {},
     "output_type": "execute_result"
    }
   ],
   "source": [
    "## 1. 2015-2016\n",
    "\n",
    "infile = open('Pickled_Data/1516_data.pkl','rb')\n",
    "id_1 =  pickle.load(infile)\n",
    "corpus1 = pickle.load(infile)\n",
    "stop1 = pickle.load(infile)\n",
    "\n",
    "file = open('Pickled_models/1516_model.pkl','rb')\n",
    "best_tm = pickle.load(file)\n",
    "model_1516 = LDA(id_1, corpus1, 6, stop1, best_tm)\n",
    "\n",
    "#Compute funding per topic\n",
    "file = 'Raw_Data/Awards1516.csv'\n",
    "dir_ = model_1516.dominant_directorate(file)\n",
    "dir_"
   ]
  },
  {
   "cell_type": "code",
   "execution_count": 16,
   "metadata": {},
   "outputs": [
    {
     "name": "stdout",
     "output_type": "stream",
     "text": [
      "\n",
      "Coherence Score:  0.264973118447852\n",
      "0\n",
      "100\n",
      "200\n",
      "300\n",
      "400\n",
      "500\n",
      "600\n"
     ]
    },
    {
     "data": {
      "text/plain": [
       "{0: {'CSE': 51, 'MPS': 12, 'BIO': 2, 'ENG': 30, 'EHR': 1, 'O/D': 2, 'SBE': 3},\n",
       " 1: {'CSE': 60,\n",
       "  'MPS': 19,\n",
       "  'ENG': 19,\n",
       "  'GEO': 4,\n",
       "  'EHR': 8,\n",
       "  'BIO': 20,\n",
       "  'O/D': 3,\n",
       "  'SBE': 4},\n",
       " 2: {'CSE': 68, 'EHR': 7, 'MPS': 10, 'SBE': 6, 'BIO': 8, 'ENG': 14},\n",
       " 3: {'CSE': 63, 'ENG': 25, 'MPS': 10, 'SBE': 3, 'GEO': 2, 'EHR': 2, 'BIO': 3},\n",
       " 4: {'ENG': 38,\n",
       "  'CSE': 126,\n",
       "  'BIO': 8,\n",
       "  'O/D': 2,\n",
       "  'SBE': 18,\n",
       "  'MPS': 7,\n",
       "  'EHR': 4,\n",
       "  'GEO': 1}}"
      ]
     },
     "execution_count": 16,
     "metadata": {},
     "output_type": "execute_result"
    }
   ],
   "source": [
    "## 1. 2016-2017\n",
    "\n",
    "infile = open('Pickled_Data/1617_data.pkl','rb')\n",
    "id_1 =  pickle.load(infile)\n",
    "corpus1 = pickle.load(infile)\n",
    "stop1 = pickle.load(infile)\n",
    "\n",
    "file = open('Pickled_models/1617_model.pkl','rb')\n",
    "best_tm = pickle.load(file)\n",
    "model_1617 = LDA(id_1, corpus1, 5, stop1, best_tm)\n",
    "\n",
    "#Compute funding per topic\n",
    "file = 'Raw_Data/Awards1617.csv'\n",
    "dir_ = model_1617.dominant_directorate(file)\n",
    "dir_"
   ]
  },
  {
   "cell_type": "code",
   "execution_count": 17,
   "metadata": {},
   "outputs": [
    {
     "name": "stdout",
     "output_type": "stream",
     "text": [
      "\n",
      "Coherence Score:  0.2926084493004439\n",
      "0\n",
      "100\n",
      "200\n",
      "300\n",
      "400\n",
      "500\n",
      "600\n",
      "700\n",
      "800\n"
     ]
    },
    {
     "data": {
      "text/plain": [
       "{0: {'CSE': 97,\n",
       "  'MPS': 25,\n",
       "  'ENG': 28,\n",
       "  'BIO': 10,\n",
       "  'SBE': 14,\n",
       "  'GEO': 5,\n",
       "  'EHR': 7,\n",
       "  'O/D': 3},\n",
       " 1: {'MPS': 20, 'EHR': 6, 'GEO': 21, 'CSE': 52, 'SBE': 3, 'ENG': 22},\n",
       " 2: {'ENG': 40, 'CSE': 72, 'MPS': 16, 'SBE': 11, 'BIO': 2, 'EHR': 3, 'O/D': 1},\n",
       " 3: {'MPS': 12, 'ENG': 25, 'CSE': 73, 'SBE': 7, 'O/D': 1, 'BIO': 2},\n",
       " 4: {'CSE': 145,\n",
       "  'BIO': 16,\n",
       "  'SBE': 18,\n",
       "  'ENG': 18,\n",
       "  'EHR': 14,\n",
       "  'MPS': 17,\n",
       "  'GEO': 3}}"
      ]
     },
     "execution_count": 17,
     "metadata": {},
     "output_type": "execute_result"
    }
   ],
   "source": [
    "## 1. 2017-2018\n",
    "\n",
    "infile = open('Pickled_Data/1718_data.pkl','rb')\n",
    "id_1 =  pickle.load(infile)\n",
    "corpus1 = pickle.load(infile)\n",
    "stop1 = pickle.load(infile)\n",
    "\n",
    "file = open('Pickled_models/1718_model.pkl','rb')\n",
    "best_tm = pickle.load(file)\n",
    "model_1718 = LDA(id_1, corpus1, 5, stop1, best_tm)\n",
    "\n",
    "#Compute funding per topic\n",
    "file = 'Raw_Data/Awards1718.csv'\n",
    "dir_ = model_1718.dominant_directorate(file)\n",
    "dir_"
   ]
  },
  {
   "cell_type": "code",
   "execution_count": 18,
   "metadata": {},
   "outputs": [
    {
     "name": "stdout",
     "output_type": "stream",
     "text": [
      "\n",
      "Coherence Score:  0.2696024485772082\n",
      "0\n",
      "100\n",
      "200\n",
      "300\n",
      "400\n",
      "500\n",
      "600\n",
      "700\n",
      "800\n",
      "900\n",
      "1000\n",
      "1100\n"
     ]
    },
    {
     "data": {
      "text/plain": [
       "{0: {'ENG': 37,\n",
       "  'CSE': 88,\n",
       "  'EHR': 6,\n",
       "  'SBE': 19,\n",
       "  'MPS': 16,\n",
       "  'BIO': 5,\n",
       "  'O/D': 2,\n",
       "  'GEO': 2},\n",
       " 1: {'MPS': 12,\n",
       "  'ENG': 40,\n",
       "  'CSE': 61,\n",
       "  'BIO': 1,\n",
       "  'O/D': 3,\n",
       "  'GEO': 5,\n",
       "  'SBE': 3,\n",
       "  'EHR': 3},\n",
       " 2: {'ENG': 20, 'CSE': 90, 'MPS': 20, 'EHR': 4, 'SBE': 17, 'GEO': 3},\n",
       " 3: {'MPS': 45,\n",
       "  'CSE': 119,\n",
       "  'ENG': 39,\n",
       "  'GEO': 2,\n",
       "  'SBE': 15,\n",
       "  'BIO': 10,\n",
       "  'EHR': 10,\n",
       "  'O/D': 1},\n",
       " 4: {'SBE': 6, 'MPS': 12, 'CSE': 59, 'ENG': 30, 'EHR': 3, 'BIO': 3, 'O/D': 1},\n",
       " 5: {'ENG': 30,\n",
       "  'MPS': 30,\n",
       "  'BIO': 4,\n",
       "  'EHR': 5,\n",
       "  'O/D': 1,\n",
       "  'CSE': 83,\n",
       "  'GEO': 3,\n",
       "  'SBE': 11},\n",
       " 6: {'MPS': 26, 'CSE': 85, 'ENG': 43, 'EHR': 5, 'SBE': 6, 'BIO': 2, 'GEO': 2}}"
      ]
     },
     "execution_count": 18,
     "metadata": {},
     "output_type": "execute_result"
    }
   ],
   "source": [
    "## 1. 2018-2019\n",
    "\n",
    "infile = open('Pickled_Data/1819_data.pkl','rb')\n",
    "id_1 =  pickle.load(infile)\n",
    "corpus1 = pickle.load(infile)\n",
    "stop1 = pickle.load(infile)\n",
    "\n",
    "file = open('Pickled_models/1819_model.pkl','rb')\n",
    "best_tm = pickle.load(file)\n",
    "model_1819 = LDA(id_1, corpus1, 7, stop1, best_tm)\n",
    "\n",
    "#Compute funding per topic\n",
    "file = 'Raw_Data/Awards1819.csv'\n",
    "dir_ = model_1819.dominant_directorate(file)\n",
    "dir_"
   ]
  },
  {
   "cell_type": "code",
   "execution_count": 19,
   "metadata": {},
   "outputs": [
    {
     "name": "stdout",
     "output_type": "stream",
     "text": [
      "\n",
      "Coherence Score:  0.27078725201848264\n",
      "0\n",
      "100\n",
      "200\n",
      "300\n",
      "400\n",
      "500\n",
      "600\n",
      "700\n",
      "800\n",
      "900\n",
      "1000\n",
      "1100\n",
      "1200\n",
      "1300\n",
      "1400\n",
      "1500\n",
      "1600\n"
     ]
    },
    {
     "data": {
      "text/plain": [
       "{0: {'ENG': 80,\n",
       "  'MPS': 50,\n",
       "  'GEO': 8,\n",
       "  'CSE': 207,\n",
       "  'EHR': 17,\n",
       "  'SBE': 25,\n",
       "  'O/D': 14,\n",
       "  'BIO': 16},\n",
       " 1: {'GEO': 5,\n",
       "  'O/D': 6,\n",
       "  'EHR': 11,\n",
       "  'CSE': 73,\n",
       "  'SBE': 9,\n",
       "  'ENG': 44,\n",
       "  'MPS': 9,\n",
       "  'BIO': 3},\n",
       " 2: {'MPS': 34,\n",
       "  'ENG': 43,\n",
       "  'CSE': 76,\n",
       "  'SBE': 12,\n",
       "  'O/D': 10,\n",
       "  'BIO': 6,\n",
       "  'EHR': 8,\n",
       "  'GEO': 6},\n",
       " 3: {'ENG': 54,\n",
       "  'SBE': 8,\n",
       "  'CSE': 138,\n",
       "  'BIO': 4,\n",
       "  'MPS': 17,\n",
       "  'EHR': 5,\n",
       "  'O/D': 7,\n",
       "  'GEO': 1},\n",
       " 4: {'MPS': 42,\n",
       "  'ENG': 52,\n",
       "  'O/D': 7,\n",
       "  'CSE': 144,\n",
       "  'EHR': 5,\n",
       "  'BIO': 10,\n",
       "  'GEO': 10,\n",
       "  'SBE': 8},\n",
       " 5: {'ENG': 65,\n",
       "  'CSE': 170,\n",
       "  'MPS': 32,\n",
       "  'GEO': 8,\n",
       "  'BIO': 1,\n",
       "  'SBE': 7,\n",
       "  'O/D': 6,\n",
       "  'EHR': 5}}"
      ]
     },
     "execution_count": 19,
     "metadata": {},
     "output_type": "execute_result"
    }
   ],
   "source": [
    "## 1. 2019-2020\n",
    "\n",
    "infile = open('Pickled_Data/1920_data.pkl','rb')\n",
    "id_1 =  pickle.load(infile)\n",
    "corpus1 = pickle.load(infile)\n",
    "stop1 = pickle.load(infile)\n",
    "\n",
    "file = open('Pickled_models/1920_model.pkl','rb')\n",
    "best_tm = pickle.load(file)\n",
    "model_1920 = LDA(id_1, corpus1, 6, stop1, best_tm)\n",
    "\n",
    "#Compute funding per topic\n",
    "file = 'Raw_Data/Awards1920.csv'\n",
    "dir_ = model_1920.dominant_directorate(file)\n",
    "dir_"
   ]
  },
  {
   "cell_type": "markdown",
   "metadata": {},
   "source": [
    "# Total funding by directorate"
   ]
  },
  {
   "cell_type": "code",
   "execution_count": 29,
   "metadata": {},
   "outputs": [],
   "source": [
    "def total_funding(file):\n",
    "\n",
    "    import numpy as np\n",
    "\n",
    "    raw_data = pd.read_csv(file, sep=',', encoding ='latin1')\n",
    "    money = raw_data['AwardedAmountToDate']\n",
    "    directorate = raw_data['NSFDirectorate']\n",
    "    Direc = {}\n",
    "    for doc in range(0,len(money)):\n",
    "        direc = directorate[doc]\n",
    "        cost = money[doc]\n",
    "        cost = int(re.sub(r'[^\\w\\s]', '', cost))/1000000\n",
    "        if direc in Direc:\n",
    "                Direc[direc] = Direc[direc] + cost\n",
    "        else: \n",
    "                Direc[direc] = cost\n",
    "\n",
    "    return Direc"
   ]
  },
  {
   "cell_type": "code",
   "execution_count": 30,
   "metadata": {},
   "outputs": [],
   "source": [
    "files = ['Raw_Data/Awards1011.csv', 'Raw_Data/Awards1112.csv', 'Raw_Data/Awards1213.csv', 'Raw_Data/Awards1314.csv', \n",
    "        'Raw_Data/Awards1415.csv', 'Raw_Data/Awards1516.csv', 'Raw_Data/Awards1617.csv', 'Raw_Data/Awards1718.csv',\n",
    "        'Raw_Data/Awards1819.csv', 'Raw_Data/Awards1920.csv']\n",
    "funds = []\n",
    "for file in files:\n",
    "    \n",
    "    total = total_funding(file)\n",
    "    funds.append(total)"
   ]
  },
  {
   "cell_type": "code",
   "execution_count": 31,
   "metadata": {},
   "outputs": [
    {
     "data": {
      "text/plain": [
       "[{'CSE': 7723.782399999996,\n",
       "  'ENG': 1273.7228,\n",
       "  'SBE': 856.0338000000002,\n",
       "  'EHR': 1343.3451,\n",
       "  'BIO': 5857.082,\n",
       "  'MPS': 495.6894,\n",
       "  'O/D': 7.1444,\n",
       "  'GEO': 120.63889999999999},\n",
       " {'CSE': 9235.443800000001,\n",
       "  'ENG': 1208.4163999999998,\n",
       "  'EHR': 919.5405999999999,\n",
       "  'BIO': 854.7955,\n",
       "  'MPS': 711.8580999999999,\n",
       "  'SBE': 2076.4316999999996,\n",
       "  'O/D': 1147.8099000000002,\n",
       "  'GEO': 150.4905},\n",
       " {'CSE': 10459.618200000003,\n",
       "  'MPS': 681.4331,\n",
       "  'ENG': 1048.4428,\n",
       "  'BIO': 1206.8136000000002,\n",
       "  'SBE': 689.8372000000002,\n",
       "  'EHR': 1842.9296,\n",
       "  'O/D': 1.0836000000000001,\n",
       "  'GEO': 84.2547},\n",
       " {'O/D': 34.6926,\n",
       "  'CSE': 9914.315899999996,\n",
       "  'ENG': 1097.9192,\n",
       "  'MPS': 853.8028000000002,\n",
       "  'BIO': 598.1238000000001,\n",
       "  'EHR': 623.329,\n",
       "  'SBE': 421.80409999999995,\n",
       "  'GEO': 219.4527},\n",
       " {'CSE': 14167.068500000003,\n",
       "  'ENG': 1408.3368,\n",
       "  'SBE': 876.3859999999999,\n",
       "  'MPS': 1155.2395999999999,\n",
       "  'EHR': 1285.9956000000002,\n",
       "  'BIO': 676.8599,\n",
       "  'GEO': 7.5894,\n",
       "  'O/D': 27.027400000000007},\n",
       " {'CSE': 13174.847900000013,\n",
       "  'ENG': 3464.3625999999995,\n",
       "  'SBE': 1328.8551999999997,\n",
       "  'MPS': 1574.2869000000003,\n",
       "  'O/D': 985.3874999999998,\n",
       "  'BIO': 849.5353000000001,\n",
       "  'EHR': 1851.7556000000002,\n",
       "  'GEO': 79.77940000000001},\n",
       " {'CSE': 16246.750900000003,\n",
       "  'ENG': 5717.8910000000005,\n",
       "  'O/D': 3.7800000000000002,\n",
       "  'MPS': 1862.4256000000003,\n",
       "  'BIO': 2110.5551999999993,\n",
       "  'SBE': 910.3473000000002,\n",
       "  'EHR': 2182.6467,\n",
       "  'GEO': 242.9509},\n",
       " {'ENG': 7504.275299999996,\n",
       "  'CSE': 17526.462200000005,\n",
       "  'MPS': 3081.515099999999,\n",
       "  'SBE': 1337.3948000000005,\n",
       "  'BIO': 2660.0517,\n",
       "  'EHR': 1980.8333999999998,\n",
       "  'O/D': 2.7,\n",
       "  'GEO': 842.235},\n",
       " {'CSE': 33184.19699999998,\n",
       "  'MPS': 4950.211799999998,\n",
       "  'ENG': 8263.712099999999,\n",
       "  'SBE': 2453.4491000000003,\n",
       "  'BIO': 1254.8345999999995,\n",
       "  'GEO': 821.4013,\n",
       "  'EHR': 3280.136500000001,\n",
       "  'O/D': 152.6396},\n",
       " {'CSE': 35874.50720000001,\n",
       "  'MPS': 6381.073700000003,\n",
       "  'ENG': 12362.458500000008,\n",
       "  'EHR': 5580.058400000001,\n",
       "  'SBE': 2384.6624,\n",
       "  'GEO': 1603.0275999999994,\n",
       "  'O/D': 4876.563,\n",
       "  'BIO': 2623.3689000000004}]"
      ]
     },
     "execution_count": 31,
     "metadata": {},
     "output_type": "execute_result"
    }
   ],
   "source": [
    "funds"
   ]
  },
  {
   "cell_type": "code",
   "execution_count": 32,
   "metadata": {},
   "outputs": [
    {
     "data": {
      "text/plain": [
       "<matplotlib.legend.Legend at 0x7ff0fc8a8b10>"
      ]
     },
     "execution_count": 32,
     "metadata": {},
     "output_type": "execute_result"
    },
    {
     "data": {
      "image/png": "[encoded data removed]",
      "text/plain": [
       "<Figure size 1440x720 with 1 Axes>"
      ]
     },
     "metadata": {
      "needs_background": "light"
     },
     "output_type": "display_data"
    }
   ],
   "source": [
    "import numpy as np \n",
    "\n",
    "years = ['2010', '2011', '2012', '2013', '2014', '2015', '2016', '2017', '2018', '2019']\n",
    "\n",
    "CSE = np.array([funds[0]['CSE'], funds[1]['CSE'], funds[2]['CSE'], funds[3]['CSE'], funds[4]['CSE'], funds[5]['CSE'],\n",
    "      funds[6]['CSE'],funds[7]['CSE'],funds[8]['CSE'], funds[9]['CSE']])\n",
    "\n",
    "ENG = np.array([funds[0]['ENG'], funds[1]['ENG'], funds[2]['ENG'], funds[3]['ENG'], funds[4]['ENG'], funds[5]['ENG'],\n",
    "      funds[6]['ENG'],funds[7]['ENG'],funds[8]['ENG'], funds[9]['ENG']])\n",
    "\n",
    "MPS = np.array([funds[0]['MPS'], funds[1]['MPS'], funds[2]['MPS'], funds[3]['MPS'], funds[4]['MPS'], funds[5]['MPS'],\n",
    "      funds[6]['MPS'],funds[7]['MPS'],funds[8]['MPS'], funds[9]['MPS']])\n",
    "\n",
    "SBE = np.array([funds[0]['SBE'], funds[1]['SBE'], funds[2]['SBE'], funds[3]['SBE'], funds[4]['SBE'], funds[5]['SBE'],\n",
    "      funds[6]['SBE'],funds[7]['SBE'],funds[8]['SBE'], funds[9]['SBE']])\n",
    "\n",
    "EHR = np.array([funds[0]['EHR'], funds[1]['EHR'], funds[2]['EHR'], funds[3]['EHR'], funds[4]['EHR'], funds[5]['EHR'],\n",
    "      funds[6]['EHR'],funds[7]['EHR'],funds[8]['EHR'], funds[9]['EHR']])\n",
    "\n",
    "BIO = np.array([funds[0]['BIO'], funds[1]['BIO'], funds[2]['BIO'], funds[3]['BIO'], funds[4]['BIO'], funds[5]['BIO'],\n",
    "      funds[6]['BIO'],funds[7]['BIO'],funds[8]['BIO'], funds[9]['BIO']])\n",
    "\n",
    "GEO = np.array([funds[0]['GEO'], funds[1]['GEO'], funds[2]['GEO'], funds[3]['GEO'], funds[4]['GEO'], funds[5]['GEO'],\n",
    "      funds[6]['GEO'],funds[7]['GEO'],funds[8]['GEO'], funds[9]['GEO']])\n",
    "\n",
    "OD = np.array([funds[0]['O/D'], funds[1]['O/D'], funds[2]['O/D'], funds[3]['O/D'], funds[4]['O/D'], funds[5]['O/D'],\n",
    "      funds[6]['O/D'],funds[7]['O/D'],funds[8]['O/D'], funds[9]['O/D']])\n",
    "\n",
    "plt.figure(figsize=(20,10))\n",
    "plt.bar(years, CSE, width = 0.8, label='CSE',   color='red')\n",
    "plt.bar(years, ENG, width = 0.8, label='ENG', color='green', bottom=CSE)\n",
    "plt.bar(years, np.array(MPS), width = 0.8, label='MPS', color='cyan', bottom=CSE+ENG)\n",
    "plt.bar(years, SBE, width = 0.8, label='SBE', color='orange', bottom=CSE+ENG+MPS)\n",
    "plt.bar(years, EHR, label='EHR', color='gold', bottom=CSE+ENG+MPS+SBE)\n",
    "plt.bar(years, BIO, label='BIO', color='silver', bottom=CSE+ENG+MPS+SBE+EHR)\n",
    "plt.bar(years, GEO, label='GEO', color='black', bottom=CSE+ENG+MPS+SBE+EHR+BIO)\n",
    "plt.bar(years, OD,  label='O/D', color='brown', bottom=CSE+ENG+MPS+SBE+EHR+BIO+GEO)\n",
    "plt.xlabel(\"Year\")\n",
    "plt.ylabel(\"Total directorate funding for AI (in million $)\")\n",
    "plt.title(\"Total NSF funding for AI per year\")\n",
    "plt.legend()\n",
    "\n"
   ]
  },
  {
   "cell_type": "markdown",
   "metadata": {},
   "source": [
    "# Awards by directorate"
   ]
  },
  {
   "cell_type": "code",
   "execution_count": 33,
   "metadata": {},
   "outputs": [],
   "source": [
    "def total_awards(file):\n",
    "\n",
    "    import numpy as np\n",
    "\n",
    "    raw_data = pd.read_csv(file, sep=',', encoding ='latin1')\n",
    "    directorate = raw_data['NSFDirectorate']\n",
    "    Direc = {}\n",
    "    for doc in range(0,len(directorate)):\n",
    "        direc = directorate[doc]\n",
    "        if direc in Direc:\n",
    "                Direc[direc] = Direc[direc] + 1\n",
    "        else: \n",
    "                Direc[direc] = 1\n",
    "\n",
    "    return Direc"
   ]
  },
  {
   "cell_type": "code",
   "execution_count": 34,
   "metadata": {},
   "outputs": [],
   "source": [
    "files = ['Raw_Data/Awards1011.csv', 'Raw_Data/Awards1112.csv', 'Raw_Data/Awards1213.csv', 'Raw_Data/Awards1314.csv', \n",
    "        'Raw_Data/Awards1415.csv', 'Raw_Data/Awards1516.csv', 'Raw_Data/Awards1617.csv', 'Raw_Data/Awards1718.csv',\n",
    "        'Raw_Data/Awards1819.csv', 'Raw_Data/Awards1920.csv']\n",
    "awards = []\n",
    "for file in files:\n",
    "    \n",
    "    total = total_awards(file)\n",
    "    awards.append(total)"
   ]
  },
  {
   "cell_type": "code",
   "execution_count": 4,
   "metadata": {},
   "outputs": [
    {
     "data": {
      "text/plain": [
       "<matplotlib.legend.Legend at 0x7ffb9e7358d0>"
      ]
     },
     "execution_count": 4,
     "metadata": {},
     "output_type": "execute_result"
    },
    {
     "data": {
      "image/png": "[encoded data removed]",
      "text/plain": [
       "<Figure size 1440x720 with 1 Axes>"
      ]
     },
     "metadata": {
      "needs_background": "light"
     },
     "output_type": "display_data"
    }
   ],
   "source": [
    "import numpy as np \n",
    "\n",
    "years = ['2010', '2011', '2012', '2013', '2014', '2015', '2016', '2017', '2018', '2019']\n",
    "\n",
    "CSE = np.array([awards[0]['CSE'], awards[1]['CSE'], awards[2]['CSE'], awards[3]['CSE'], awards[4]['CSE'], awards[5]['CSE'],\n",
    "      awards[6]['CSE'], awards[7]['CSE'], awards[8]['CSE'], awards[9]['CSE']])\n",
    "\n",
    "ENG = np.array([awards[0]['ENG'], awards[1]['ENG'], awards[2]['ENG'], awards[3]['ENG'], awards[4]['ENG'], awards[5]['ENG'],\n",
    "      awards[6]['ENG'],awards[7]['ENG'],awards[8]['ENG'], awards[9]['ENG']])\n",
    "\n",
    "MPS = np.array([awards[0]['MPS'], awards[1]['MPS'], awards[2]['MPS'], awards[3]['MPS'], awards[4]['MPS'], awards[5]['MPS'],\n",
    "      awards[6]['MPS'],awards[7]['MPS'],awards[8]['MPS'], awards[9]['MPS']])\n",
    "\n",
    "SBE = np.array([awards[0]['SBE'], awards[1]['SBE'], awards[2]['SBE'], awards[3]['SBE'], awards[4]['SBE'], awards[5]['SBE'],\n",
    "      awards[6]['SBE'],awards[7]['SBE'],awards[8]['SBE'], awards[9]['SBE']])\n",
    "\n",
    "EHR = np.array([awards[0]['EHR'], awards[1]['EHR'], awards[2]['EHR'], awards[3]['EHR'], awards[4]['EHR'], awards[5]['EHR'],\n",
    "      awards[6]['EHR'],awards[7]['EHR'],awards[8]['EHR'], awards[9]['EHR']])\n",
    "\n",
    "BIO = np.array([awards[0]['BIO'], awards[1]['BIO'], awards[2]['BIO'], awards[3]['BIO'], awards[4]['BIO'], awards[5]['BIO'],\n",
    "      awards[6]['BIO'],awards[7]['BIO'],awards[8]['BIO'], awards[9]['BIO']])\n",
    "\n",
    "GEO = np.array([awards[0]['GEO'], awards[1]['GEO'], awards[2]['GEO'], awards[3]['GEO'], awards[4]['GEO'], awards[5]['GEO'],\n",
    "      awards[6]['GEO'],awards[7]['GEO'],awards[8]['GEO'], awards[9]['GEO']])\n",
    "\n",
    "OD = np.array([awards[0]['O/D'], awards[1]['O/D'], awards[2]['O/D'], awards[3]['O/D'], awards[4]['O/D'], awards[5]['O/D'],\n",
    "      awards[6]['O/D'],awards[7]['O/D'],awards[8]['O/D'], awards[9]['O/D']])\n",
    "\n",
    "plt.figure(figsize=(20,10))\n",
    "plt.bar(years, CSE, width = 0.8, label='CSE',   color='red')\n",
    "plt.bar(years, ENG, width = 0.8, label='ENG', color='green', bottom=CSE)\n",
    "plt.bar(years, np.array(MPS), width = 0.8, label='MPS', color='cyan', bottom=CSE+ENG)\n",
    "plt.bar(years, SBE, width = 0.8, label='SBE', color='orange', bottom=CSE+ENG+MPS)\n",
    "plt.bar(years, EHR, label='EHR', color='gold', bottom=CSE+ENG+MPS+SBE)\n",
    "plt.bar(years, BIO, label='BIO', color='silver', bottom=CSE+ENG+MPS+SBE+EHR)\n",
    "plt.bar(years, GEO, label='GEO', color='black', bottom=CSE+ENG+MPS+SBE+EHR+BIO)\n",
    "plt.bar(years, OD,  label='O/D', color='brown', bottom=CSE+ENG+MPS+SBE+EHR+BIO+GEO)\n",
    "plt.xlabel(\"Year\")\n",
    "plt.ylabel(\"Total number of awards by directorate funding for AI (in billion $)\")\n",
    "plt.title(\"Total NSF funding for AI per year\")\n",
    "plt.legend()\n"
   ]
  },
  {
   "cell_type": "code",
   "execution_count": 40,
   "metadata": {},
   "outputs": [
    {
     "data": {
      "text/plain": [
       "Text(0.5, 1.0, 'OD')"
      ]
     },
     "execution_count": 40,
     "metadata": {},
     "output_type": "execute_result"
    },
    {
     "data": {
      "image/png": "[encoded data removed]",
      "text/plain": [
       "<Figure size 1440x720 with 8 Axes>"
      ]
     },
     "metadata": {
      "needs_background": "light"
     },
     "output_type": "display_data"
    }
   ],
   "source": [
    "fig, axs = plt.subplots(4,2, figsize=(20,10))\n",
    "axs[0, 0].bar(years, CSE, width = 0.8,label='CSE')\n",
    "axs[0, 0].set_title(\"CSE\")\n",
    "axs[0, 1].bar(years, ENG, width = 0.8, label='ENG')\n",
    "axs[0, 1].set_title(\"ENG\")\n",
    "axs[1, 0].bar(years, MPS, width = 0.8, label='MPS')\n",
    "axs[1, 0].set_title(\"MPS\")\n",
    "axs[1, 1].bar(years, SBE, width = 0.8, label='SBE')\n",
    "axs[1, 1].set_title(\"SBE\")\n",
    "axs[2, 0].bar(years, EHR, width = 0.8, label='EHR')\n",
    "axs[2, 0].set_title(\"EHR\")\n",
    "axs[2, 1].bar(years, GEO, width = 0.8, label='GEO')\n",
    "axs[2, 1].set_title(\"GEO\")\n",
    "axs[3, 0].bar(years, BIO, width = 0.8, label='BIO')\n",
    "axs[3, 0].set_title(\"BIO\")\n",
    "axs[3, 1].bar(years, OD, width = 0.8, label='OD')\n",
    "axs[3, 1].set_title(\"OD\")"
   ]
  },
  {
   "cell_type": "code",
   "execution_count": 6,
   "metadata": {},
   "outputs": [
    {
     "name": "stdout",
     "output_type": "stream",
     "text": [
      "[ 2  2  2  9  5 10  7  5  8 52]\n",
      "[ 2  6  4  3  1  2  7 29 17 38]\n",
      "[12  9 12  9 15 13 22 30 36 51]\n",
      "[24 12 26 15 15 21 41 30 25 41]\n",
      "[20 11 21 15 33 39 34 55 77 69]\n",
      "[ 19  25  30  38  44  60  58  92 168 189]\n",
      "[ 39  41  41  46  49  97 129 136 244 350]\n",
      "[189 225 223 225 280 301 373 446 603 828]\n"
     ]
    }
   ],
   "source": [
    "print(OD)\n",
    "print(GEO)\n",
    "print(EHR)\n",
    "print(BIO)\n",
    "print(SBE)\n",
    "print(MPS)\n",
    "print(ENG)\n",
    "print(CSE)"
   ]
  },
  {
   "cell_type": "code",
   "execution_count": null,
   "metadata": {},
   "outputs": [],
   "source": []
  }
 ],
 "metadata": {
  "kernelspec": {
   "display_name": "Python 3",
   "language": "python",
   "name": "python3"
  },
  "language_info": {
   "codemirror_mode": {
    "name": "ipython",
    "version": 3
   },
   "file_extension": ".py",
   "mimetype": "text/x-python",
   "name": "python",
   "nbconvert_exporter": "python",
   "pygments_lexer": "ipython3",
   "version": "3.7.4"
  }
 },
 "nbformat": 4,
 "nbformat_minor": 2
}
