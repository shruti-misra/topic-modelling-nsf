{
 "cells": [
  {
   "cell_type": "code",
   "execution_count": 1,
   "metadata": {},
   "outputs": [
    {
     "name": "stdout",
     "output_type": "stream",
     "text": [
      "Requirement already satisfied: pyLDAvis in /Users/shruti/opt/anaconda3/lib/python3.7/site-packages (2.1.2)\n",
      "Requirement already satisfied: wheel>=0.23.0 in /Users/shruti/opt/anaconda3/lib/python3.7/site-packages (from pyLDAvis) (0.33.6)\n",
      "Requirement already satisfied: numpy>=1.9.2 in /Users/shruti/opt/anaconda3/lib/python3.7/site-packages (from pyLDAvis) (1.17.2)\n",
      "Requirement already satisfied: scipy>=0.18.0 in /Users/shruti/opt/anaconda3/lib/python3.7/site-packages (from pyLDAvis) (1.4.1)\n",
      "Requirement already satisfied: pandas>=0.17.0 in /Users/shruti/opt/anaconda3/lib/python3.7/site-packages (from pyLDAvis) (0.25.1)\n",
      "Requirement already satisfied: joblib>=0.8.4 in /Users/shruti/opt/anaconda3/lib/python3.7/site-packages (from pyLDAvis) (0.13.2)\n",
      "Requirement already satisfied: jinja2>=2.7.2 in /Users/shruti/opt/anaconda3/lib/python3.7/site-packages (from pyLDAvis) (2.10.3)\n",
      "Requirement already satisfied: numexpr in /Users/shruti/opt/anaconda3/lib/python3.7/site-packages (from pyLDAvis) (2.7.0)\n",
      "Requirement already satisfied: pytest in /Users/shruti/opt/anaconda3/lib/python3.7/site-packages (from pyLDAvis) (5.2.1)\n",
      "Requirement already satisfied: future in /Users/shruti/opt/anaconda3/lib/python3.7/site-packages (from pyLDAvis) (0.18.2)\n",
      "Requirement already satisfied: funcy in /Users/shruti/opt/anaconda3/lib/python3.7/site-packages (from pyLDAvis) (1.14)\n",
      "Requirement already satisfied: pytz>=2017.2 in /Users/shruti/opt/anaconda3/lib/python3.7/site-packages (from pandas>=0.17.0->pyLDAvis) (2019.3)\n",
      "Requirement already satisfied: python-dateutil>=2.6.1 in /Users/shruti/opt/anaconda3/lib/python3.7/site-packages (from pandas>=0.17.0->pyLDAvis) (2.8.0)\n",
      "Requirement already satisfied: MarkupSafe>=0.23 in /Users/shruti/opt/anaconda3/lib/python3.7/site-packages (from jinja2>=2.7.2->pyLDAvis) (1.1.1)\n",
      "Requirement already satisfied: py>=1.5.0 in /Users/shruti/opt/anaconda3/lib/python3.7/site-packages (from pytest->pyLDAvis) (1.8.0)\n",
      "Requirement already satisfied: packaging in /Users/shruti/opt/anaconda3/lib/python3.7/site-packages (from pytest->pyLDAvis) (19.2)\n",
      "Requirement already satisfied: attrs>=17.4.0 in /Users/shruti/opt/anaconda3/lib/python3.7/site-packages (from pytest->pyLDAvis) (19.2.0)\n",
      "Requirement already satisfied: more-itertools>=4.0.0 in /Users/shruti/opt/anaconda3/lib/python3.7/site-packages (from pytest->pyLDAvis) (7.2.0)\n",
      "Requirement already satisfied: atomicwrites>=1.0 in /Users/shruti/opt/anaconda3/lib/python3.7/site-packages (from pytest->pyLDAvis) (1.3.0)\n",
      "Requirement already satisfied: pluggy<1.0,>=0.12 in /Users/shruti/opt/anaconda3/lib/python3.7/site-packages (from pytest->pyLDAvis) (0.13.0)\n",
      "Requirement already satisfied: wcwidth in /Users/shruti/opt/anaconda3/lib/python3.7/site-packages (from pytest->pyLDAvis) (0.1.7)\n",
      "Requirement already satisfied: importlib-metadata>=0.12 in /Users/shruti/opt/anaconda3/lib/python3.7/site-packages (from pytest->pyLDAvis) (0.23)\n",
      "Requirement already satisfied: six>=1.5 in /Users/shruti/opt/anaconda3/lib/python3.7/site-packages (from python-dateutil>=2.6.1->pandas>=0.17.0->pyLDAvis) (1.12.0)\n",
      "Requirement already satisfied: pyparsing>=2.0.2 in /Users/shruti/opt/anaconda3/lib/python3.7/site-packages (from packaging->pytest->pyLDAvis) (2.4.2)\n",
      "Requirement already satisfied: zipp>=0.5 in /Users/shruti/opt/anaconda3/lib/python3.7/site-packages (from importlib-metadata>=0.12->pytest->pyLDAvis) (0.6.0)\n"
     ]
    },
    {
     "name": "stderr",
     "output_type": "stream",
     "text": [
      "[nltk_data] Downloading package punkt to /Users/shruti/nltk_data...\n",
      "[nltk_data]   Package punkt is already up-to-date!\n",
      "[nltk_data] Downloading package wordnet to /Users/shruti/nltk_data...\n",
      "[nltk_data]   Package wordnet is already up-to-date!\n",
      "[nltk_data] Downloading package punkt to /Users/shruti/nltk_data...\n",
      "[nltk_data]   Package punkt is already up-to-date!\n",
      "[nltk_data] Downloading package wordnet to /Users/shruti/nltk_data...\n",
      "[nltk_data]   Package wordnet is already up-to-date!\n",
      "[nltk_data] Downloading package punkt to /Users/shruti/nltk_data...\n",
      "[nltk_data]   Package punkt is already up-to-date!\n",
      "[nltk_data] Downloading package wordnet to /Users/shruti/nltk_data...\n",
      "[nltk_data]   Package wordnet is already up-to-date!\n",
      "[nltk_data] Downloading package punkt to /Users/shruti/nltk_data...\n",
      "[nltk_data]   Package punkt is already up-to-date!\n",
      "[nltk_data] Downloading package wordnet to /Users/shruti/nltk_data...\n",
      "[nltk_data]   Package wordnet is already up-to-date!\n"
     ]
    }
   ],
   "source": [
    "import pandas as pd\n",
    "import gensim\n",
    "from gensim import corpora\n",
    "from pprint import pprint\n",
    "import spacy\n",
    "import re     \n",
    "# Plotting tools\n",
    "!pip install pyLDAvis\n",
    "import pyLDAvis\n",
    "import pyLDAvis.gensim  # don't skip this\n",
    "import matplotlib.pyplot as plt\n",
    "import pickle\n",
    "import nltk\n",
    "nltk.download('punkt')\n",
    "nltk.download('wordnet')\n",
    "from nltk import sent_tokenize, word_tokenize\n",
    "from nltk.stem.snowball import SnowballStemmer\n",
    "from nltk.stem.wordnet import WordNetLemmatizer\n",
    "from nltk.corpus import stopwords\n",
    "from Preprocess import Preprocess\n",
    "from Viz import Viz\n",
    "from LDA import LDA"
   ]
  },
  {
   "cell_type": "markdown",
   "metadata": {},
   "source": [
    "## 1. 2010-2011"
   ]
  },
  {
   "cell_type": "code",
   "execution_count": 2,
   "metadata": {},
   "outputs": [],
   "source": [
    "infile = open('Pickled_Data/1011_data.pkl','rb')\n",
    "id_1 =  pickle.load(infile)\n",
    "corpus1 = pickle.load(infile)\n",
    "stop1 = pickle.load(infile)"
   ]
  },
  {
   "cell_type": "code",
   "execution_count": 3,
   "metadata": {},
   "outputs": [
    {
     "name": "stdout",
     "output_type": "stream",
     "text": [
      "\n",
      "Coherence Score:  0.21611263952226165\n"
     ]
    }
   ],
   "source": [
    "file = open('Pickled_models/1011_model.pkl','rb')\n",
    "best_tm = pickle.load(file)\n",
    "model_1011 = LDA(id_1, corpus1, 3, stop1, best_tm)"
   ]
  },
  {
   "cell_type": "code",
   "execution_count": 4,
   "metadata": {},
   "outputs": [
    {
     "name": "stdout",
     "output_type": "stream",
     "text": [
      "0\n",
      "100\n",
      "200\n",
      "300\n"
     ]
    }
   ],
   "source": [
    "#Compute funding per topic\n",
    "file = 'Raw_Data/Awards1011.csv'\n",
    "dir_ = model_1011.funding_per_topic(file)"
   ]
  },
  {
   "cell_type": "code",
   "execution_count": 5,
   "metadata": {},
   "outputs": [
    {
     "data": {
      "text/plain": [
       "{0: 4022413300, 1: 5838119300, 2: 7751868000}"
      ]
     },
     "execution_count": 5,
     "metadata": {},
     "output_type": "execute_result"
    }
   ],
   "source": [
    "dir_"
   ]
  },
  {
   "cell_type": "markdown",
   "metadata": {},
   "source": [
    "# 2. 2011-2012"
   ]
  },
  {
   "cell_type": "code",
   "execution_count": 6,
   "metadata": {},
   "outputs": [],
   "source": [
    "infile = open('Pickled_Data/1112_data.pkl','rb')\n",
    "id_1 =  pickle.load(infile)\n",
    "corpus1 = pickle.load(infile)\n",
    "stop1 = pickle.load(infile)"
   ]
  },
  {
   "cell_type": "code",
   "execution_count": 7,
   "metadata": {},
   "outputs": [
    {
     "name": "stdout",
     "output_type": "stream",
     "text": [
      "\n",
      "Coherence Score:  0.2181862858865856\n",
      "0\n",
      "100\n",
      "200\n",
      "300\n"
     ]
    },
    {
     "data": {
      "text/plain": [
       "{0: 8592252800, 1: 4907771900, 2: 2780761800}"
      ]
     },
     "execution_count": 7,
     "metadata": {},
     "output_type": "execute_result"
    }
   ],
   "source": [
    "file = open('Pickled_models/1112_model.pkl','rb')\n",
    "best_tm = pickle.load(file)\n",
    "model_1112 = LDA(id_1, corpus1, 3, stop1, best_tm)\n",
    "\n",
    "#Compute funding per topic\n",
    "file = 'Raw_Data/Awards1112.csv'\n",
    "dir_ = model_1112.funding_per_topic(file)\n",
    "dir_"
   ]
  },
  {
   "cell_type": "code",
   "execution_count": 8,
   "metadata": {},
   "outputs": [
    {
     "name": "stdout",
     "output_type": "stream",
     "text": [
      "\n",
      "Coherence Score:  0.2498170891375951\n",
      "0\n",
      "100\n",
      "200\n",
      "300\n"
     ]
    },
    {
     "data": {
      "text/plain": [
       "{0: 3746652300, 1: 7616319700, 2: 2660655400, 3: 1865286700}"
      ]
     },
     "execution_count": 8,
     "metadata": {},
     "output_type": "execute_result"
    }
   ],
   "source": [
    "## 1. 2012-2013\n",
    "\n",
    "infile = open('Pickled_Data/1213_data.pkl','rb')\n",
    "id_1 =  pickle.load(infile)\n",
    "corpus1 = pickle.load(infile)\n",
    "stop1 = pickle.load(infile)\n",
    "\n",
    "file = open('Pickled_models/1213_model.pkl','rb')\n",
    "best_tm = pickle.load(file)\n",
    "model_1213 = LDA(id_1, corpus1, 4, stop1, best_tm)\n",
    "\n",
    "#Compute funding per topic\n",
    "file = 'Raw_Data/Awards1213.csv'\n",
    "dir_ = model_1213.funding_per_topic(file)\n",
    "dir_"
   ]
  },
  {
   "cell_type": "code",
   "execution_count": 9,
   "metadata": {},
   "outputs": [
    {
     "name": "stdout",
     "output_type": "stream",
     "text": [
      "\n",
      "Coherence Score:  0.33160929278630175\n",
      "0\n",
      "100\n",
      "200\n",
      "300\n"
     ]
    },
    {
     "data": {
      "text/plain": [
       "{0: 2105494900, 1: 2030949900, 2: 2379707100, 3: 3262632300, 4: 3943004200}"
      ]
     },
     "execution_count": 9,
     "metadata": {},
     "output_type": "execute_result"
    }
   ],
   "source": [
    "## 1. 2013-2014\n",
    "\n",
    "infile = open('Pickled_Data/1314_data.pkl','rb')\n",
    "id_1 =  pickle.load(infile)\n",
    "corpus1 = pickle.load(infile)\n",
    "stop1 = pickle.load(infile)\n",
    "\n",
    "file = open('Pickled_models/1314_model.pkl','rb')\n",
    "best_tm = pickle.load(file)\n",
    "model_1314 = LDA(id_1, corpus1, 5, stop1, best_tm)\n",
    "\n",
    "#Compute funding per topic\n",
    "file = 'Raw_Data/Awards1314.csv'\n",
    "dir_ = model_1314.funding_per_topic(file)\n",
    "dir_"
   ]
  },
  {
   "cell_type": "code",
   "execution_count": 10,
   "metadata": {},
   "outputs": [
    {
     "name": "stdout",
     "output_type": "stream",
     "text": [
      "\n",
      "Coherence Score:  0.2411824219691563\n",
      "0\n",
      "100\n",
      "200\n",
      "300\n",
      "400\n"
     ]
    },
    {
     "data": {
      "text/plain": [
       "{0: 4479751200, 1: 4566684300, 2: 2146420300, 3: 4486093100, 4: 3785291200}"
      ]
     },
     "execution_count": 10,
     "metadata": {},
     "output_type": "execute_result"
    }
   ],
   "source": [
    "## 1. 2014-2015\n",
    "\n",
    "infile = open('Pickled_Data/1415_data.pkl','rb')\n",
    "id_1 =  pickle.load(infile)\n",
    "corpus1 = pickle.load(infile)\n",
    "stop1 = pickle.load(infile)\n",
    "\n",
    "file = open('Pickled_models/1415_model.pkl','rb')\n",
    "best_tm = pickle.load(file)\n",
    "model_1415 = LDA(id_1, corpus1, 5, stop1, best_tm)\n",
    "\n",
    "#Compute funding per topic\n",
    "file = 'Raw_Data/Awards1415.csv'\n",
    "dir_ = model_1415.funding_per_topic(file)\n",
    "dir_"
   ]
  },
  {
   "cell_type": "code",
   "execution_count": 11,
   "metadata": {},
   "outputs": [
    {
     "name": "stdout",
     "output_type": "stream",
     "text": [
      "\n",
      "Coherence Score:  0.2314483489819327\n",
      "0\n",
      "100\n",
      "200\n",
      "300\n",
      "400\n",
      "500\n"
     ]
    },
    {
     "data": {
      "text/plain": [
       "{0: 6513725100,\n",
       " 1: 4163674300,\n",
       " 2: 2078763200,\n",
       " 3: 3145328100,\n",
       " 4: 1438644000,\n",
       " 5: 5684380400}"
      ]
     },
     "execution_count": 11,
     "metadata": {},
     "output_type": "execute_result"
    }
   ],
   "source": [
    "## 1. 2015-2016\n",
    "\n",
    "infile = open('Pickled_Data/1516_data.pkl','rb')\n",
    "id_1 =  pickle.load(infile)\n",
    "corpus1 = pickle.load(infile)\n",
    "stop1 = pickle.load(infile)\n",
    "\n",
    "file = open('Pickled_models/1516_model.pkl','rb')\n",
    "best_tm = pickle.load(file)\n",
    "model_1516 = LDA(id_1, corpus1, 6, stop1, best_tm)\n",
    "\n",
    "#Compute funding per topic\n",
    "file = 'Raw_Data/Awards1516.csv'\n",
    "dir_ = model_1516.funding_per_topic(file)\n",
    "dir_"
   ]
  },
  {
   "cell_type": "code",
   "execution_count": 12,
   "metadata": {},
   "outputs": [
    {
     "name": "stdout",
     "output_type": "stream",
     "text": [
      "\n",
      "Coherence Score:  0.264973118447852\n",
      "0\n",
      "100\n",
      "200\n",
      "300\n",
      "400\n",
      "500\n",
      "600\n"
     ]
    },
    {
     "data": {
      "text/plain": [
       "{0: 4034692900, 1: 5475920200, 2: 5734085200, 3: 4767216200, 4: 9045614100}"
      ]
     },
     "execution_count": 12,
     "metadata": {},
     "output_type": "execute_result"
    }
   ],
   "source": [
    "## 1. 2016-2017\n",
    "\n",
    "infile = open('Pickled_Data/1617_data.pkl','rb')\n",
    "id_1 =  pickle.load(infile)\n",
    "corpus1 = pickle.load(infile)\n",
    "stop1 = pickle.load(infile)\n",
    "\n",
    "file = open('Pickled_models/1617_model.pkl','rb')\n",
    "best_tm = pickle.load(file)\n",
    "model_1617 = LDA(id_1, corpus1, 5, stop1, best_tm)\n",
    "\n",
    "#Compute funding per topic\n",
    "file = 'Raw_Data/Awards1617.csv'\n",
    "dir_ = model_1617.funding_per_topic(file)\n",
    "dir_"
   ]
  },
  {
   "cell_type": "code",
   "execution_count": 13,
   "metadata": {},
   "outputs": [
    {
     "name": "stdout",
     "output_type": "stream",
     "text": [
      "\n",
      "Coherence Score:  0.2926084493004439\n",
      "0\n",
      "100\n",
      "200\n",
      "300\n",
      "400\n",
      "500\n",
      "600\n",
      "700\n",
      "800\n"
     ]
    },
    {
     "data": {
      "text/plain": [
       "{0: 8886964800, 1: 4961096500, 2: 6152200000, 3: 3883728000, 4: 10641776100}"
      ]
     },
     "execution_count": 13,
     "metadata": {},
     "output_type": "execute_result"
    }
   ],
   "source": [
    "## 1. 2017-2018\n",
    "\n",
    "infile = open('Pickled_Data/1718_data.pkl','rb')\n",
    "id_1 =  pickle.load(infile)\n",
    "corpus1 = pickle.load(infile)\n",
    "stop1 = pickle.load(infile)\n",
    "\n",
    "file = open('Pickled_models/1718_model.pkl','rb')\n",
    "best_tm = pickle.load(file)\n",
    "model_1718 = LDA(id_1, corpus1, 5, stop1, best_tm)\n",
    "\n",
    "#Compute funding per topic\n",
    "file = 'Raw_Data/Awards1718.csv'\n",
    "dir_ = model_1718.funding_per_topic(file)\n",
    "dir_"
   ]
  },
  {
   "cell_type": "code",
   "execution_count": 14,
   "metadata": {},
   "outputs": [
    {
     "name": "stdout",
     "output_type": "stream",
     "text": [
      "\n",
      "Coherence Score:  0.2696024485772082\n",
      "0\n",
      "100\n",
      "200\n",
      "300\n",
      "400\n",
      "500\n",
      "600\n",
      "700\n",
      "800\n",
      "900\n",
      "1000\n",
      "1100\n"
     ]
    },
    {
     "data": {
      "text/plain": [
       "{0: 13457362700,\n",
       " 1: 6348694500,\n",
       " 2: 5467506600,\n",
       " 3: 10839563900,\n",
       " 4: 3542746200,\n",
       " 5: 6161435900,\n",
       " 6: 7537782200}"
      ]
     },
     "execution_count": 14,
     "metadata": {},
     "output_type": "execute_result"
    }
   ],
   "source": [
    "## 1. 2018-2019\n",
    "\n",
    "infile = open('Pickled_Data/1819_data.pkl','rb')\n",
    "id_1 =  pickle.load(infile)\n",
    "corpus1 = pickle.load(infile)\n",
    "stop1 = pickle.load(infile)\n",
    "\n",
    "file = open('Pickled_models/1819_model.pkl','rb')\n",
    "best_tm = pickle.load(file)\n",
    "model_1819 = LDA(id_1, corpus1, 7, stop1, best_tm)\n",
    "\n",
    "#Compute funding per topic\n",
    "file = 'Raw_Data/Awards1819.csv'\n",
    "dir_ = model_1819.funding_per_topic(file)\n",
    "dir_"
   ]
  },
  {
   "cell_type": "code",
   "execution_count": 15,
   "metadata": {},
   "outputs": [
    {
     "name": "stdout",
     "output_type": "stream",
     "text": [
      "\n",
      "Coherence Score:  0.27078725201848264\n",
      "0\n",
      "100\n",
      "200\n",
      "300\n",
      "400\n",
      "500\n",
      "600\n",
      "700\n",
      "800\n",
      "900\n",
      "1000\n",
      "1100\n",
      "1200\n",
      "1300\n",
      "1400\n",
      "1500\n",
      "1600\n"
     ]
    },
    {
     "data": {
      "text/plain": [
       "{0: 21796959300,\n",
       " 1: 6281102900,\n",
       " 2: 8379713700,\n",
       " 3: 8995271500,\n",
       " 4: 13208618900,\n",
       " 5: 10969010100}"
      ]
     },
     "execution_count": 15,
     "metadata": {},
     "output_type": "execute_result"
    }
   ],
   "source": [
    "## 1. 2019-2020\n",
    "\n",
    "infile = open('Pickled_Data/1920_data.pkl','rb')\n",
    "id_1 =  pickle.load(infile)\n",
    "corpus1 = pickle.load(infile)\n",
    "stop1 = pickle.load(infile)\n",
    "\n",
    "file = open('Pickled_models/1920_model.pkl','rb')\n",
    "best_tm = pickle.load(file)\n",
    "model_1920 = LDA(id_1, corpus1, 6, stop1, best_tm)\n",
    "\n",
    "#Compute funding per topic\n",
    "file = 'Raw_Data/Awards1920.csv'\n",
    "dir_ = model_1920.funding_per_topic(file)\n",
    "dir_"
   ]
  },
  {
   "cell_type": "code",
   "execution_count": 16,
   "metadata": {},
   "outputs": [
    {
     "name": "stdout",
     "output_type": "stream",
     "text": [
      "0\n",
      "100\n",
      "200\n",
      "300\n",
      "400\n",
      "500\n",
      "600\n",
      "700\n",
      "800\n",
      "900\n",
      "1000\n",
      "1100\n",
      "1200\n",
      "1300\n",
      "1400\n",
      "1500\n",
      "1600\n"
     ]
    }
   ],
   "source": [
    "docs = model_1920.dominant_topics_funds()"
   ]
  },
  {
   "cell_type": "code",
   "execution_count": null,
   "metadata": {},
   "outputs": [],
   "source": []
  },
  {
   "cell_type": "markdown",
   "metadata": {},
   "source": [
    "# Total funding"
   ]
  },
  {
   "cell_type": "code",
   "execution_count": 17,
   "metadata": {},
   "outputs": [],
   "source": [
    "def total_funding(file):\n",
    "\n",
    "    import numpy as np\n",
    "\n",
    "    raw_data = pd.read_csv(file, sep=',', encoding ='latin1')\n",
    "    money = raw_data['AwardedAmountToDate']\n",
    "    amt = 0\n",
    "    for mons in money:\n",
    "        amt = amt + int(re.sub(r'[^\\w\\s]', '', str(mons)))\n",
    "\n",
    "\n",
    "    return amt"
   ]
  },
  {
   "cell_type": "code",
   "execution_count": 18,
   "metadata": {},
   "outputs": [],
   "source": [
    "funds = []\n",
    "files = ['Raw_Data/Awards1011.csv', 'Raw_Data/Awards1112.csv', 'Raw_Data/Awards1213.csv', 'Raw_Data/Awards1314.csv', \n",
    "        'Raw_Data/Awards1415.csv', 'Raw_Data/Awards1516.csv', 'Raw_Data/Awards1617.csv', 'Raw_Data/Awards1718.csv',\n",
    "        'Raw_Data/Awards1819.csv', 'Raw_Data/Awards1920.csv']\n",
    "\n",
    "for file in files:\n",
    "    \n",
    "    total = total_funding(file)\n",
    "    funds.append(total)"
   ]
  },
  {
   "cell_type": "code",
   "execution_count": 19,
   "metadata": {},
   "outputs": [],
   "source": [
    "#Convert funds to billions\n",
    "import numpy as np\n",
    "funds = np.asarray(funds)/10000000000"
   ]
  },
  {
   "cell_type": "code",
   "execution_count": 20,
   "metadata": {},
   "outputs": [
    {
     "data": {
      "text/plain": [
       "Text(0.5, 1.0, 'Total NSF funding for AI per year')"
      ]
     },
     "execution_count": 20,
     "metadata": {},
     "output_type": "execute_result"
    },
    {
     "data": {
      "image/png": "[encoded data removed]",
      "text/plain": [
       "<Figure size 432x288 with 1 Axes>"
      ]
     },
     "metadata": {
      "needs_background": "light"
     },
     "output_type": "display_data"
    }
   ],
   "source": [
    "years = ['2010', '2011', '2012', '2013', '2014', '2015', '2016', '2017', '2018', '2019']\n",
    "plt.bar(years, funds, color=\"green\")\n",
    "plt.xlabel(\"Year\")\n",
    "plt.ylabel(\"Total NSF funding for AI (in billion $)\")\n",
    "plt.title(\"Total NSF funding for AI per year\")"
   ]
  },
  {
   "cell_type": "code",
   "execution_count": 21,
   "metadata": {},
   "outputs": [
    {
     "data": {
      "text/plain": [
       "array([1.76774388, 1.63047865, 1.60144128, 1.37634401, 1.96045032,\n",
       "       2.33088104, 2.92773476, 3.49354675, 5.4360582 , 7.16857197])"
      ]
     },
     "execution_count": 21,
     "metadata": {},
     "output_type": "execute_result"
    }
   ],
   "source": [
    "funds"
   ]
  }
 ],
 "metadata": {
  "kernelspec": {
   "display_name": "Python 3",
   "language": "python",
   "name": "python3"
  },
  "language_info": {
   "codemirror_mode": {
    "name": "ipython",
    "version": 3
   },
   "file_extension": ".py",
   "mimetype": "text/x-python",
   "name": "python",
   "nbconvert_exporter": "python",
   "pygments_lexer": "ipython3",
   "version": "3.7.4"
  }
 },
 "nbformat": 4,
 "nbformat_minor": 2
}
